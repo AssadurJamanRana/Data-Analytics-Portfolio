{
  "nbformat": 4,
  "nbformat_minor": 0,
  "metadata": {
    "colab": {
      "provenance": []
    },
    "kernelspec": {
      "name": "python3",
      "display_name": "Python 3"
    },
    "language_info": {
      "name": "python"
    }
  },
  "cells": [
    {
      "cell_type": "code",
      "execution_count": 2,
      "metadata": {
        "colab": {
          "base_uri": "https://localhost:8080/"
        },
        "id": "VF_b9DfW_jn_",
        "outputId": "c27a0d10-bfbc-4d35-e574-0e3ff4cebb0f"
      },
      "outputs": [
        {
          "output_type": "stream",
          "name": "stderr",
          "text": [
            "<ipython-input-2-97e096cd7977>:4: DtypeWarning: Columns (76) have mixed types. Specify dtype option on import or set low_memory=False.\n",
            "  df = pd.read_csv('fifa21 raw data v2.csv')\n"
          ]
        }
      ],
      "source": [
        "import pandas as pd\n",
        "\n"
      ]
    },
    {
      "cell_type": "markdown",
      "source": [
        "# Import the dataset\n"
      ],
      "metadata": {
        "id": "shnjICtgUXfz"
      }
    },
    {
      "cell_type": "code",
      "source": [
        "# Step 1: Import the dataset\n",
        "df = pd.read_csv('fifa21 raw data v2.csv')"
      ],
      "metadata": {
        "id": "Uzg-7BOqUdCK"
      },
      "execution_count": null,
      "outputs": []
    },
    {
      "cell_type": "code",
      "source": [],
      "metadata": {
        "id": "Jrzyp0lDUhG1"
      },
      "execution_count": null,
      "outputs": []
    },
    {
      "cell_type": "markdown",
      "source": [
        "# Explore the dataset"
      ],
      "metadata": {
        "id": "qwZorpY9UlK_"
      }
    },
    {
      "cell_type": "code",
      "source": [
        "df.head()"
      ],
      "metadata": {
        "colab": {
          "base_uri": "https://localhost:8080/",
          "height": 473
        },
        "id": "2-uq2A62SXHg",
        "outputId": "b3fa7919-f651-4fe6-c3b7-e63bc1ea8b24"
      },
      "execution_count": 4,
      "outputs": [
        {
          "output_type": "execute_result",
          "data": {
            "text/plain": [
              "       ID               Name                      LongName  \\\n",
              "0  158023           L. Messi                  Lionel Messi   \n",
              "1   20801  Cristiano Ronaldo  C. Ronaldo dos Santos Aveiro   \n",
              "2  200389           J. Oblak                     Jan Oblak   \n",
              "3  192985       K. De Bruyne               Kevin De Bruyne   \n",
              "4  190871          Neymar Jr    Neymar da Silva Santos Jr.   \n",
              "\n",
              "                                           photoUrl  \\\n",
              "0  https://cdn.sofifa.com/players/158/023/21_60.png   \n",
              "1  https://cdn.sofifa.com/players/020/801/21_60.png   \n",
              "2  https://cdn.sofifa.com/players/200/389/21_60.png   \n",
              "3  https://cdn.sofifa.com/players/192/985/21_60.png   \n",
              "4  https://cdn.sofifa.com/players/190/871/21_60.png   \n",
              "\n",
              "                                           playerUrl Nationality  Age  ↓OVA  \\\n",
              "0  http://sofifa.com/player/158023/lionel-messi/2...   Argentina   33    93   \n",
              "1  http://sofifa.com/player/20801/c-ronaldo-dos-s...    Portugal   35    92   \n",
              "2  http://sofifa.com/player/200389/jan-oblak/210006/    Slovenia   27    91   \n",
              "3  http://sofifa.com/player/192985/kevin-de-bruyn...     Belgium   29    91   \n",
              "4  http://sofifa.com/player/190871/neymar-da-silv...      Brazil   28    91   \n",
              "\n",
              "   POT                         Club  ...     A/W     D/W   IR PAC SHO  PAS  \\\n",
              "0   93         \\n\\n\\n\\nFC Barcelona  ...  Medium     Low  5 ★  85  92   91   \n",
              "1   92             \\n\\n\\n\\nJuventus  ...    High     Low  5 ★  89  93   81   \n",
              "2   93      \\n\\n\\n\\nAtlético Madrid  ...  Medium  Medium  3 ★  87  92   78   \n",
              "3   91      \\n\\n\\n\\nManchester City  ...    High    High  4 ★  76  86   93   \n",
              "4   91  \\n\\n\\n\\nParis Saint-Germain  ...    High  Medium  5 ★  91  85   86   \n",
              "\n",
              "  DRI DEF PHY Hits  \n",
              "0  95  38  65  771  \n",
              "1  89  35  77  562  \n",
              "2  90  52  90  150  \n",
              "3  88  64  78  207  \n",
              "4  94  36  59  595  \n",
              "\n",
              "[5 rows x 77 columns]"
            ],
            "text/html": [
              "\n",
              "  <div id=\"df-fbe6f2db-a1e2-4689-be69-701b80746774\">\n",
              "    <div class=\"colab-df-container\">\n",
              "      <div>\n",
              "<style scoped>\n",
              "    .dataframe tbody tr th:only-of-type {\n",
              "        vertical-align: middle;\n",
              "    }\n",
              "\n",
              "    .dataframe tbody tr th {\n",
              "        vertical-align: top;\n",
              "    }\n",
              "\n",
              "    .dataframe thead th {\n",
              "        text-align: right;\n",
              "    }\n",
              "</style>\n",
              "<table border=\"1\" class=\"dataframe\">\n",
              "  <thead>\n",
              "    <tr style=\"text-align: right;\">\n",
              "      <th></th>\n",
              "      <th>ID</th>\n",
              "      <th>Name</th>\n",
              "      <th>LongName</th>\n",
              "      <th>photoUrl</th>\n",
              "      <th>playerUrl</th>\n",
              "      <th>Nationality</th>\n",
              "      <th>Age</th>\n",
              "      <th>↓OVA</th>\n",
              "      <th>POT</th>\n",
              "      <th>Club</th>\n",
              "      <th>...</th>\n",
              "      <th>A/W</th>\n",
              "      <th>D/W</th>\n",
              "      <th>IR</th>\n",
              "      <th>PAC</th>\n",
              "      <th>SHO</th>\n",
              "      <th>PAS</th>\n",
              "      <th>DRI</th>\n",
              "      <th>DEF</th>\n",
              "      <th>PHY</th>\n",
              "      <th>Hits</th>\n",
              "    </tr>\n",
              "  </thead>\n",
              "  <tbody>\n",
              "    <tr>\n",
              "      <th>0</th>\n",
              "      <td>158023</td>\n",
              "      <td>L. Messi</td>\n",
              "      <td>Lionel Messi</td>\n",
              "      <td>https://cdn.sofifa.com/players/158/023/21_60.png</td>\n",
              "      <td>http://sofifa.com/player/158023/lionel-messi/2...</td>\n",
              "      <td>Argentina</td>\n",
              "      <td>33</td>\n",
              "      <td>93</td>\n",
              "      <td>93</td>\n",
              "      <td>\\n\\n\\n\\nFC Barcelona</td>\n",
              "      <td>...</td>\n",
              "      <td>Medium</td>\n",
              "      <td>Low</td>\n",
              "      <td>5 ★</td>\n",
              "      <td>85</td>\n",
              "      <td>92</td>\n",
              "      <td>91</td>\n",
              "      <td>95</td>\n",
              "      <td>38</td>\n",
              "      <td>65</td>\n",
              "      <td>771</td>\n",
              "    </tr>\n",
              "    <tr>\n",
              "      <th>1</th>\n",
              "      <td>20801</td>\n",
              "      <td>Cristiano Ronaldo</td>\n",
              "      <td>C. Ronaldo dos Santos Aveiro</td>\n",
              "      <td>https://cdn.sofifa.com/players/020/801/21_60.png</td>\n",
              "      <td>http://sofifa.com/player/20801/c-ronaldo-dos-s...</td>\n",
              "      <td>Portugal</td>\n",
              "      <td>35</td>\n",
              "      <td>92</td>\n",
              "      <td>92</td>\n",
              "      <td>\\n\\n\\n\\nJuventus</td>\n",
              "      <td>...</td>\n",
              "      <td>High</td>\n",
              "      <td>Low</td>\n",
              "      <td>5 ★</td>\n",
              "      <td>89</td>\n",
              "      <td>93</td>\n",
              "      <td>81</td>\n",
              "      <td>89</td>\n",
              "      <td>35</td>\n",
              "      <td>77</td>\n",
              "      <td>562</td>\n",
              "    </tr>\n",
              "    <tr>\n",
              "      <th>2</th>\n",
              "      <td>200389</td>\n",
              "      <td>J. Oblak</td>\n",
              "      <td>Jan Oblak</td>\n",
              "      <td>https://cdn.sofifa.com/players/200/389/21_60.png</td>\n",
              "      <td>http://sofifa.com/player/200389/jan-oblak/210006/</td>\n",
              "      <td>Slovenia</td>\n",
              "      <td>27</td>\n",
              "      <td>91</td>\n",
              "      <td>93</td>\n",
              "      <td>\\n\\n\\n\\nAtlético Madrid</td>\n",
              "      <td>...</td>\n",
              "      <td>Medium</td>\n",
              "      <td>Medium</td>\n",
              "      <td>3 ★</td>\n",
              "      <td>87</td>\n",
              "      <td>92</td>\n",
              "      <td>78</td>\n",
              "      <td>90</td>\n",
              "      <td>52</td>\n",
              "      <td>90</td>\n",
              "      <td>150</td>\n",
              "    </tr>\n",
              "    <tr>\n",
              "      <th>3</th>\n",
              "      <td>192985</td>\n",
              "      <td>K. De Bruyne</td>\n",
              "      <td>Kevin De Bruyne</td>\n",
              "      <td>https://cdn.sofifa.com/players/192/985/21_60.png</td>\n",
              "      <td>http://sofifa.com/player/192985/kevin-de-bruyn...</td>\n",
              "      <td>Belgium</td>\n",
              "      <td>29</td>\n",
              "      <td>91</td>\n",
              "      <td>91</td>\n",
              "      <td>\\n\\n\\n\\nManchester City</td>\n",
              "      <td>...</td>\n",
              "      <td>High</td>\n",
              "      <td>High</td>\n",
              "      <td>4 ★</td>\n",
              "      <td>76</td>\n",
              "      <td>86</td>\n",
              "      <td>93</td>\n",
              "      <td>88</td>\n",
              "      <td>64</td>\n",
              "      <td>78</td>\n",
              "      <td>207</td>\n",
              "    </tr>\n",
              "    <tr>\n",
              "      <th>4</th>\n",
              "      <td>190871</td>\n",
              "      <td>Neymar Jr</td>\n",
              "      <td>Neymar da Silva Santos Jr.</td>\n",
              "      <td>https://cdn.sofifa.com/players/190/871/21_60.png</td>\n",
              "      <td>http://sofifa.com/player/190871/neymar-da-silv...</td>\n",
              "      <td>Brazil</td>\n",
              "      <td>28</td>\n",
              "      <td>91</td>\n",
              "      <td>91</td>\n",
              "      <td>\\n\\n\\n\\nParis Saint-Germain</td>\n",
              "      <td>...</td>\n",
              "      <td>High</td>\n",
              "      <td>Medium</td>\n",
              "      <td>5 ★</td>\n",
              "      <td>91</td>\n",
              "      <td>85</td>\n",
              "      <td>86</td>\n",
              "      <td>94</td>\n",
              "      <td>36</td>\n",
              "      <td>59</td>\n",
              "      <td>595</td>\n",
              "    </tr>\n",
              "  </tbody>\n",
              "</table>\n",
              "<p>5 rows × 77 columns</p>\n",
              "</div>\n",
              "      <button class=\"colab-df-convert\" onclick=\"convertToInteractive('df-fbe6f2db-a1e2-4689-be69-701b80746774')\"\n",
              "              title=\"Convert this dataframe to an interactive table.\"\n",
              "              style=\"display:none;\">\n",
              "        \n",
              "  <svg xmlns=\"http://www.w3.org/2000/svg\" height=\"24px\"viewBox=\"0 0 24 24\"\n",
              "       width=\"24px\">\n",
              "    <path d=\"M0 0h24v24H0V0z\" fill=\"none\"/>\n",
              "    <path d=\"M18.56 5.44l.94 2.06.94-2.06 2.06-.94-2.06-.94-.94-2.06-.94 2.06-2.06.94zm-11 1L8.5 8.5l.94-2.06 2.06-.94-2.06-.94L8.5 2.5l-.94 2.06-2.06.94zm10 10l.94 2.06.94-2.06 2.06-.94-2.06-.94-.94-2.06-.94 2.06-2.06.94z\"/><path d=\"M17.41 7.96l-1.37-1.37c-.4-.4-.92-.59-1.43-.59-.52 0-1.04.2-1.43.59L10.3 9.45l-7.72 7.72c-.78.78-.78 2.05 0 2.83L4 21.41c.39.39.9.59 1.41.59.51 0 1.02-.2 1.41-.59l7.78-7.78 2.81-2.81c.8-.78.8-2.07 0-2.86zM5.41 20L4 18.59l7.72-7.72 1.47 1.35L5.41 20z\"/>\n",
              "  </svg>\n",
              "      </button>\n",
              "      \n",
              "  <style>\n",
              "    .colab-df-container {\n",
              "      display:flex;\n",
              "      flex-wrap:wrap;\n",
              "      gap: 12px;\n",
              "    }\n",
              "\n",
              "    .colab-df-convert {\n",
              "      background-color: #E8F0FE;\n",
              "      border: none;\n",
              "      border-radius: 50%;\n",
              "      cursor: pointer;\n",
              "      display: none;\n",
              "      fill: #1967D2;\n",
              "      height: 32px;\n",
              "      padding: 0 0 0 0;\n",
              "      width: 32px;\n",
              "    }\n",
              "\n",
              "    .colab-df-convert:hover {\n",
              "      background-color: #E2EBFA;\n",
              "      box-shadow: 0px 1px 2px rgba(60, 64, 67, 0.3), 0px 1px 3px 1px rgba(60, 64, 67, 0.15);\n",
              "      fill: #174EA6;\n",
              "    }\n",
              "\n",
              "    [theme=dark] .colab-df-convert {\n",
              "      background-color: #3B4455;\n",
              "      fill: #D2E3FC;\n",
              "    }\n",
              "\n",
              "    [theme=dark] .colab-df-convert:hover {\n",
              "      background-color: #434B5C;\n",
              "      box-shadow: 0px 1px 3px 1px rgba(0, 0, 0, 0.15);\n",
              "      filter: drop-shadow(0px 1px 2px rgba(0, 0, 0, 0.3));\n",
              "      fill: #FFFFFF;\n",
              "    }\n",
              "  </style>\n",
              "\n",
              "      <script>\n",
              "        const buttonEl =\n",
              "          document.querySelector('#df-fbe6f2db-a1e2-4689-be69-701b80746774 button.colab-df-convert');\n",
              "        buttonEl.style.display =\n",
              "          google.colab.kernel.accessAllowed ? 'block' : 'none';\n",
              "\n",
              "        async function convertToInteractive(key) {\n",
              "          const element = document.querySelector('#df-fbe6f2db-a1e2-4689-be69-701b80746774');\n",
              "          const dataTable =\n",
              "            await google.colab.kernel.invokeFunction('convertToInteractive',\n",
              "                                                     [key], {});\n",
              "          if (!dataTable) return;\n",
              "\n",
              "          const docLinkHtml = 'Like what you see? Visit the ' +\n",
              "            '<a target=\"_blank\" href=https://colab.research.google.com/notebooks/data_table.ipynb>data table notebook</a>'\n",
              "            + ' to learn more about interactive tables.';\n",
              "          element.innerHTML = '';\n",
              "          dataTable['output_type'] = 'display_data';\n",
              "          await google.colab.output.renderOutput(dataTable, element);\n",
              "          const docLink = document.createElement('div');\n",
              "          docLink.innerHTML = docLinkHtml;\n",
              "          element.appendChild(docLink);\n",
              "        }\n",
              "      </script>\n",
              "    </div>\n",
              "  </div>\n",
              "  "
            ]
          },
          "metadata": {},
          "execution_count": 4
        }
      ]
    },
    {
      "cell_type": "code",
      "source": [
        "df.info()"
      ],
      "metadata": {
        "colab": {
          "base_uri": "https://localhost:8080/"
        },
        "id": "PA0I0wqDSevA",
        "outputId": "7af24722-c87c-4167-d481-d38140f8be68"
      },
      "execution_count": 5,
      "outputs": [
        {
          "output_type": "stream",
          "name": "stdout",
          "text": [
            "<class 'pandas.core.frame.DataFrame'>\n",
            "RangeIndex: 18979 entries, 0 to 18978\n",
            "Data columns (total 77 columns):\n",
            " #   Column            Non-Null Count  Dtype \n",
            "---  ------            --------------  ----- \n",
            " 0   ID                18979 non-null  int64 \n",
            " 1   Name              18979 non-null  object\n",
            " 2   LongName          18979 non-null  object\n",
            " 3   photoUrl          18979 non-null  object\n",
            " 4   playerUrl         18979 non-null  object\n",
            " 5   Nationality       18979 non-null  object\n",
            " 6   Age               18979 non-null  int64 \n",
            " 7   ↓OVA              18979 non-null  int64 \n",
            " 8   POT               18979 non-null  int64 \n",
            " 9   Club              18979 non-null  object\n",
            " 10  Contract          18979 non-null  object\n",
            " 11  Positions         18979 non-null  object\n",
            " 12  Height            18979 non-null  object\n",
            " 13  Weight            18979 non-null  object\n",
            " 14  Preferred Foot    18979 non-null  object\n",
            " 15  BOV               18979 non-null  int64 \n",
            " 16  Best Position     18979 non-null  object\n",
            " 17  Joined            18979 non-null  object\n",
            " 18  Loan Date End     1013 non-null   object\n",
            " 19  Value             18979 non-null  object\n",
            " 20  Wage              18979 non-null  object\n",
            " 21  Release Clause    18979 non-null  object\n",
            " 22  Attacking         18979 non-null  int64 \n",
            " 23  Crossing          18979 non-null  int64 \n",
            " 24  Finishing         18979 non-null  int64 \n",
            " 25  Heading Accuracy  18979 non-null  int64 \n",
            " 26  Short Passing     18979 non-null  int64 \n",
            " 27  Volleys           18979 non-null  int64 \n",
            " 28  Skill             18979 non-null  int64 \n",
            " 29  Dribbling         18979 non-null  int64 \n",
            " 30  Curve             18979 non-null  int64 \n",
            " 31  FK Accuracy       18979 non-null  int64 \n",
            " 32  Long Passing      18979 non-null  int64 \n",
            " 33  Ball Control      18979 non-null  int64 \n",
            " 34  Movement          18979 non-null  int64 \n",
            " 35  Acceleration      18979 non-null  int64 \n",
            " 36  Sprint Speed      18979 non-null  int64 \n",
            " 37  Agility           18979 non-null  int64 \n",
            " 38  Reactions         18979 non-null  int64 \n",
            " 39  Balance           18979 non-null  int64 \n",
            " 40  Power             18979 non-null  int64 \n",
            " 41  Shot Power        18979 non-null  int64 \n",
            " 42  Jumping           18979 non-null  int64 \n",
            " 43  Stamina           18979 non-null  int64 \n",
            " 44  Strength          18979 non-null  int64 \n",
            " 45  Long Shots        18979 non-null  int64 \n",
            " 46  Mentality         18979 non-null  int64 \n",
            " 47  Aggression        18979 non-null  int64 \n",
            " 48  Interceptions     18979 non-null  int64 \n",
            " 49  Positioning       18979 non-null  int64 \n",
            " 50  Vision            18979 non-null  int64 \n",
            " 51  Penalties         18979 non-null  int64 \n",
            " 52  Composure         18979 non-null  int64 \n",
            " 53  Defending         18979 non-null  int64 \n",
            " 54  Marking           18979 non-null  int64 \n",
            " 55  Standing Tackle   18979 non-null  int64 \n",
            " 56  Sliding Tackle    18979 non-null  int64 \n",
            " 57  Goalkeeping       18979 non-null  int64 \n",
            " 58  GK Diving         18979 non-null  int64 \n",
            " 59  GK Handling       18979 non-null  int64 \n",
            " 60  GK Kicking        18979 non-null  int64 \n",
            " 61  GK Positioning    18979 non-null  int64 \n",
            " 62  GK Reflexes       18979 non-null  int64 \n",
            " 63  Total Stats       18979 non-null  int64 \n",
            " 64  Base Stats        18979 non-null  int64 \n",
            " 65  W/F               18979 non-null  object\n",
            " 66  SM                18979 non-null  object\n",
            " 67  A/W               18979 non-null  object\n",
            " 68  D/W               18979 non-null  object\n",
            " 69  IR                18979 non-null  object\n",
            " 70  PAC               18979 non-null  int64 \n",
            " 71  SHO               18979 non-null  int64 \n",
            " 72  PAS               18979 non-null  int64 \n",
            " 73  DRI               18979 non-null  int64 \n",
            " 74  DEF               18979 non-null  int64 \n",
            " 75  PHY               18979 non-null  int64 \n",
            " 76  Hits              16384 non-null  object\n",
            "dtypes: int64(54), object(23)\n",
            "memory usage: 11.1+ MB\n"
          ]
        }
      ]
    },
    {
      "cell_type": "code",
      "source": [
        "df.describe()"
      ],
      "metadata": {
        "colab": {
          "base_uri": "https://localhost:8080/",
          "height": 411
        },
        "id": "wcFCTPKTTsva",
        "outputId": "370d0f87-916f-46e8-dc05-5024628329bc"
      },
      "execution_count": 6,
      "outputs": [
        {
          "output_type": "execute_result",
          "data": {
            "text/plain": [
              "                  ID           Age          ↓OVA           POT           BOV  \\\n",
              "count   18979.000000  18979.000000  18979.000000  18979.000000  18979.000000   \n",
              "mean   226403.384794     25.194109     65.718636     71.136414     66.751726   \n",
              "std     27141.054157      4.710520      6.968999      6.114635      6.747193   \n",
              "min        41.000000     16.000000     47.000000     47.000000     48.000000   \n",
              "25%    210135.000000     21.000000     61.000000     67.000000     62.000000   \n",
              "50%    232418.000000     25.000000     66.000000     71.000000     67.000000   \n",
              "75%    246922.500000     29.000000     70.000000     75.000000     71.000000   \n",
              "max    259216.000000     53.000000     93.000000     95.000000     93.000000   \n",
              "\n",
              "          Attacking      Crossing     Finishing  Heading Accuracy  \\\n",
              "count  18979.000000  18979.000000  18979.000000      18979.000000   \n",
              "mean     248.938142     49.688392     45.842405         51.942726   \n",
              "std       74.299428     18.131153     19.567081         17.294409   \n",
              "min       42.000000      6.000000      3.000000          5.000000   \n",
              "25%      222.000000     38.000000     30.000000         44.000000   \n",
              "50%      263.000000     54.000000     49.000000         55.000000   \n",
              "75%      297.000000     63.000000     62.000000         64.000000   \n",
              "max      437.000000     94.000000     95.000000         93.000000   \n",
              "\n",
              "       Short Passing  ...  GK Positioning   GK Reflexes   Total Stats  \\\n",
              "count   18979.000000  ...    18979.000000  18979.000000  18979.000000   \n",
              "mean       58.768112  ...       16.217187     16.519627   1595.286949   \n",
              "std        14.519106  ...       17.002239     17.854079    269.874789   \n",
              "min         7.000000  ...        2.000000      2.000000    747.000000   \n",
              "25%        54.000000  ...        8.000000      8.000000   1452.000000   \n",
              "50%        62.000000  ...       11.000000     11.000000   1627.000000   \n",
              "75%        68.000000  ...       14.000000     14.000000   1781.000000   \n",
              "max        94.000000  ...       91.000000     90.000000   2316.000000   \n",
              "\n",
              "         Base Stats           PAC           SHO           PAS           DRI  \\\n",
              "count  18979.000000  18979.000000  18979.000000  18979.000000  18979.000000   \n",
              "mean     355.702197     67.453975     53.457031     57.681016     62.875020   \n",
              "std       40.761117     10.677859     13.827425     10.081857      9.927415   \n",
              "min      232.000000     25.000000     16.000000     25.000000     25.000000   \n",
              "25%      327.000000     61.000000     44.000000     51.000000     57.000000   \n",
              "50%      356.000000     68.000000     56.000000     58.000000     64.000000   \n",
              "75%      384.000000     75.000000     64.000000     64.000000     69.000000   \n",
              "max      498.000000     96.000000     93.000000     93.000000     95.000000   \n",
              "\n",
              "                DEF           PHY  \n",
              "count  18979.000000  18979.000000  \n",
              "mean      49.866221     64.368934  \n",
              "std       16.443213      9.601883  \n",
              "min       12.000000     28.000000  \n",
              "25%       35.000000     58.000000  \n",
              "50%       53.000000     65.000000  \n",
              "75%       63.000000     71.000000  \n",
              "max       91.000000     91.000000  \n",
              "\n",
              "[8 rows x 54 columns]"
            ],
            "text/html": [
              "\n",
              "  <div id=\"df-465b0a0a-7a70-43b5-aa0e-5fb4c02f5e81\">\n",
              "    <div class=\"colab-df-container\">\n",
              "      <div>\n",
              "<style scoped>\n",
              "    .dataframe tbody tr th:only-of-type {\n",
              "        vertical-align: middle;\n",
              "    }\n",
              "\n",
              "    .dataframe tbody tr th {\n",
              "        vertical-align: top;\n",
              "    }\n",
              "\n",
              "    .dataframe thead th {\n",
              "        text-align: right;\n",
              "    }\n",
              "</style>\n",
              "<table border=\"1\" class=\"dataframe\">\n",
              "  <thead>\n",
              "    <tr style=\"text-align: right;\">\n",
              "      <th></th>\n",
              "      <th>ID</th>\n",
              "      <th>Age</th>\n",
              "      <th>↓OVA</th>\n",
              "      <th>POT</th>\n",
              "      <th>BOV</th>\n",
              "      <th>Attacking</th>\n",
              "      <th>Crossing</th>\n",
              "      <th>Finishing</th>\n",
              "      <th>Heading Accuracy</th>\n",
              "      <th>Short Passing</th>\n",
              "      <th>...</th>\n",
              "      <th>GK Positioning</th>\n",
              "      <th>GK Reflexes</th>\n",
              "      <th>Total Stats</th>\n",
              "      <th>Base Stats</th>\n",
              "      <th>PAC</th>\n",
              "      <th>SHO</th>\n",
              "      <th>PAS</th>\n",
              "      <th>DRI</th>\n",
              "      <th>DEF</th>\n",
              "      <th>PHY</th>\n",
              "    </tr>\n",
              "  </thead>\n",
              "  <tbody>\n",
              "    <tr>\n",
              "      <th>count</th>\n",
              "      <td>18979.000000</td>\n",
              "      <td>18979.000000</td>\n",
              "      <td>18979.000000</td>\n",
              "      <td>18979.000000</td>\n",
              "      <td>18979.000000</td>\n",
              "      <td>18979.000000</td>\n",
              "      <td>18979.000000</td>\n",
              "      <td>18979.000000</td>\n",
              "      <td>18979.000000</td>\n",
              "      <td>18979.000000</td>\n",
              "      <td>...</td>\n",
              "      <td>18979.000000</td>\n",
              "      <td>18979.000000</td>\n",
              "      <td>18979.000000</td>\n",
              "      <td>18979.000000</td>\n",
              "      <td>18979.000000</td>\n",
              "      <td>18979.000000</td>\n",
              "      <td>18979.000000</td>\n",
              "      <td>18979.000000</td>\n",
              "      <td>18979.000000</td>\n",
              "      <td>18979.000000</td>\n",
              "    </tr>\n",
              "    <tr>\n",
              "      <th>mean</th>\n",
              "      <td>226403.384794</td>\n",
              "      <td>25.194109</td>\n",
              "      <td>65.718636</td>\n",
              "      <td>71.136414</td>\n",
              "      <td>66.751726</td>\n",
              "      <td>248.938142</td>\n",
              "      <td>49.688392</td>\n",
              "      <td>45.842405</td>\n",
              "      <td>51.942726</td>\n",
              "      <td>58.768112</td>\n",
              "      <td>...</td>\n",
              "      <td>16.217187</td>\n",
              "      <td>16.519627</td>\n",
              "      <td>1595.286949</td>\n",
              "      <td>355.702197</td>\n",
              "      <td>67.453975</td>\n",
              "      <td>53.457031</td>\n",
              "      <td>57.681016</td>\n",
              "      <td>62.875020</td>\n",
              "      <td>49.866221</td>\n",
              "      <td>64.368934</td>\n",
              "    </tr>\n",
              "    <tr>\n",
              "      <th>std</th>\n",
              "      <td>27141.054157</td>\n",
              "      <td>4.710520</td>\n",
              "      <td>6.968999</td>\n",
              "      <td>6.114635</td>\n",
              "      <td>6.747193</td>\n",
              "      <td>74.299428</td>\n",
              "      <td>18.131153</td>\n",
              "      <td>19.567081</td>\n",
              "      <td>17.294409</td>\n",
              "      <td>14.519106</td>\n",
              "      <td>...</td>\n",
              "      <td>17.002239</td>\n",
              "      <td>17.854079</td>\n",
              "      <td>269.874789</td>\n",
              "      <td>40.761117</td>\n",
              "      <td>10.677859</td>\n",
              "      <td>13.827425</td>\n",
              "      <td>10.081857</td>\n",
              "      <td>9.927415</td>\n",
              "      <td>16.443213</td>\n",
              "      <td>9.601883</td>\n",
              "    </tr>\n",
              "    <tr>\n",
              "      <th>min</th>\n",
              "      <td>41.000000</td>\n",
              "      <td>16.000000</td>\n",
              "      <td>47.000000</td>\n",
              "      <td>47.000000</td>\n",
              "      <td>48.000000</td>\n",
              "      <td>42.000000</td>\n",
              "      <td>6.000000</td>\n",
              "      <td>3.000000</td>\n",
              "      <td>5.000000</td>\n",
              "      <td>7.000000</td>\n",
              "      <td>...</td>\n",
              "      <td>2.000000</td>\n",
              "      <td>2.000000</td>\n",
              "      <td>747.000000</td>\n",
              "      <td>232.000000</td>\n",
              "      <td>25.000000</td>\n",
              "      <td>16.000000</td>\n",
              "      <td>25.000000</td>\n",
              "      <td>25.000000</td>\n",
              "      <td>12.000000</td>\n",
              "      <td>28.000000</td>\n",
              "    </tr>\n",
              "    <tr>\n",
              "      <th>25%</th>\n",
              "      <td>210135.000000</td>\n",
              "      <td>21.000000</td>\n",
              "      <td>61.000000</td>\n",
              "      <td>67.000000</td>\n",
              "      <td>62.000000</td>\n",
              "      <td>222.000000</td>\n",
              "      <td>38.000000</td>\n",
              "      <td>30.000000</td>\n",
              "      <td>44.000000</td>\n",
              "      <td>54.000000</td>\n",
              "      <td>...</td>\n",
              "      <td>8.000000</td>\n",
              "      <td>8.000000</td>\n",
              "      <td>1452.000000</td>\n",
              "      <td>327.000000</td>\n",
              "      <td>61.000000</td>\n",
              "      <td>44.000000</td>\n",
              "      <td>51.000000</td>\n",
              "      <td>57.000000</td>\n",
              "      <td>35.000000</td>\n",
              "      <td>58.000000</td>\n",
              "    </tr>\n",
              "    <tr>\n",
              "      <th>50%</th>\n",
              "      <td>232418.000000</td>\n",
              "      <td>25.000000</td>\n",
              "      <td>66.000000</td>\n",
              "      <td>71.000000</td>\n",
              "      <td>67.000000</td>\n",
              "      <td>263.000000</td>\n",
              "      <td>54.000000</td>\n",
              "      <td>49.000000</td>\n",
              "      <td>55.000000</td>\n",
              "      <td>62.000000</td>\n",
              "      <td>...</td>\n",
              "      <td>11.000000</td>\n",
              "      <td>11.000000</td>\n",
              "      <td>1627.000000</td>\n",
              "      <td>356.000000</td>\n",
              "      <td>68.000000</td>\n",
              "      <td>56.000000</td>\n",
              "      <td>58.000000</td>\n",
              "      <td>64.000000</td>\n",
              "      <td>53.000000</td>\n",
              "      <td>65.000000</td>\n",
              "    </tr>\n",
              "    <tr>\n",
              "      <th>75%</th>\n",
              "      <td>246922.500000</td>\n",
              "      <td>29.000000</td>\n",
              "      <td>70.000000</td>\n",
              "      <td>75.000000</td>\n",
              "      <td>71.000000</td>\n",
              "      <td>297.000000</td>\n",
              "      <td>63.000000</td>\n",
              "      <td>62.000000</td>\n",
              "      <td>64.000000</td>\n",
              "      <td>68.000000</td>\n",
              "      <td>...</td>\n",
              "      <td>14.000000</td>\n",
              "      <td>14.000000</td>\n",
              "      <td>1781.000000</td>\n",
              "      <td>384.000000</td>\n",
              "      <td>75.000000</td>\n",
              "      <td>64.000000</td>\n",
              "      <td>64.000000</td>\n",
              "      <td>69.000000</td>\n",
              "      <td>63.000000</td>\n",
              "      <td>71.000000</td>\n",
              "    </tr>\n",
              "    <tr>\n",
              "      <th>max</th>\n",
              "      <td>259216.000000</td>\n",
              "      <td>53.000000</td>\n",
              "      <td>93.000000</td>\n",
              "      <td>95.000000</td>\n",
              "      <td>93.000000</td>\n",
              "      <td>437.000000</td>\n",
              "      <td>94.000000</td>\n",
              "      <td>95.000000</td>\n",
              "      <td>93.000000</td>\n",
              "      <td>94.000000</td>\n",
              "      <td>...</td>\n",
              "      <td>91.000000</td>\n",
              "      <td>90.000000</td>\n",
              "      <td>2316.000000</td>\n",
              "      <td>498.000000</td>\n",
              "      <td>96.000000</td>\n",
              "      <td>93.000000</td>\n",
              "      <td>93.000000</td>\n",
              "      <td>95.000000</td>\n",
              "      <td>91.000000</td>\n",
              "      <td>91.000000</td>\n",
              "    </tr>\n",
              "  </tbody>\n",
              "</table>\n",
              "<p>8 rows × 54 columns</p>\n",
              "</div>\n",
              "      <button class=\"colab-df-convert\" onclick=\"convertToInteractive('df-465b0a0a-7a70-43b5-aa0e-5fb4c02f5e81')\"\n",
              "              title=\"Convert this dataframe to an interactive table.\"\n",
              "              style=\"display:none;\">\n",
              "        \n",
              "  <svg xmlns=\"http://www.w3.org/2000/svg\" height=\"24px\"viewBox=\"0 0 24 24\"\n",
              "       width=\"24px\">\n",
              "    <path d=\"M0 0h24v24H0V0z\" fill=\"none\"/>\n",
              "    <path d=\"M18.56 5.44l.94 2.06.94-2.06 2.06-.94-2.06-.94-.94-2.06-.94 2.06-2.06.94zm-11 1L8.5 8.5l.94-2.06 2.06-.94-2.06-.94L8.5 2.5l-.94 2.06-2.06.94zm10 10l.94 2.06.94-2.06 2.06-.94-2.06-.94-.94-2.06-.94 2.06-2.06.94z\"/><path d=\"M17.41 7.96l-1.37-1.37c-.4-.4-.92-.59-1.43-.59-.52 0-1.04.2-1.43.59L10.3 9.45l-7.72 7.72c-.78.78-.78 2.05 0 2.83L4 21.41c.39.39.9.59 1.41.59.51 0 1.02-.2 1.41-.59l7.78-7.78 2.81-2.81c.8-.78.8-2.07 0-2.86zM5.41 20L4 18.59l7.72-7.72 1.47 1.35L5.41 20z\"/>\n",
              "  </svg>\n",
              "      </button>\n",
              "      \n",
              "  <style>\n",
              "    .colab-df-container {\n",
              "      display:flex;\n",
              "      flex-wrap:wrap;\n",
              "      gap: 12px;\n",
              "    }\n",
              "\n",
              "    .colab-df-convert {\n",
              "      background-color: #E8F0FE;\n",
              "      border: none;\n",
              "      border-radius: 50%;\n",
              "      cursor: pointer;\n",
              "      display: none;\n",
              "      fill: #1967D2;\n",
              "      height: 32px;\n",
              "      padding: 0 0 0 0;\n",
              "      width: 32px;\n",
              "    }\n",
              "\n",
              "    .colab-df-convert:hover {\n",
              "      background-color: #E2EBFA;\n",
              "      box-shadow: 0px 1px 2px rgba(60, 64, 67, 0.3), 0px 1px 3px 1px rgba(60, 64, 67, 0.15);\n",
              "      fill: #174EA6;\n",
              "    }\n",
              "\n",
              "    [theme=dark] .colab-df-convert {\n",
              "      background-color: #3B4455;\n",
              "      fill: #D2E3FC;\n",
              "    }\n",
              "\n",
              "    [theme=dark] .colab-df-convert:hover {\n",
              "      background-color: #434B5C;\n",
              "      box-shadow: 0px 1px 3px 1px rgba(0, 0, 0, 0.15);\n",
              "      filter: drop-shadow(0px 1px 2px rgba(0, 0, 0, 0.3));\n",
              "      fill: #FFFFFF;\n",
              "    }\n",
              "  </style>\n",
              "\n",
              "      <script>\n",
              "        const buttonEl =\n",
              "          document.querySelector('#df-465b0a0a-7a70-43b5-aa0e-5fb4c02f5e81 button.colab-df-convert');\n",
              "        buttonEl.style.display =\n",
              "          google.colab.kernel.accessAllowed ? 'block' : 'none';\n",
              "\n",
              "        async function convertToInteractive(key) {\n",
              "          const element = document.querySelector('#df-465b0a0a-7a70-43b5-aa0e-5fb4c02f5e81');\n",
              "          const dataTable =\n",
              "            await google.colab.kernel.invokeFunction('convertToInteractive',\n",
              "                                                     [key], {});\n",
              "          if (!dataTable) return;\n",
              "\n",
              "          const docLinkHtml = 'Like what you see? Visit the ' +\n",
              "            '<a target=\"_blank\" href=https://colab.research.google.com/notebooks/data_table.ipynb>data table notebook</a>'\n",
              "            + ' to learn more about interactive tables.';\n",
              "          element.innerHTML = '';\n",
              "          dataTable['output_type'] = 'display_data';\n",
              "          await google.colab.output.renderOutput(dataTable, element);\n",
              "          const docLink = document.createElement('div');\n",
              "          docLink.innerHTML = docLinkHtml;\n",
              "          element.appendChild(docLink);\n",
              "        }\n",
              "      </script>\n",
              "    </div>\n",
              "  </div>\n",
              "  "
            ]
          },
          "metadata": {},
          "execution_count": 6
        }
      ]
    },
    {
      "cell_type": "code",
      "source": [],
      "metadata": {
        "id": "O5N9KowWT2Aj"
      },
      "execution_count": null,
      "outputs": []
    },
    {
      "cell_type": "markdown",
      "source": [
        "# Handle missing values"
      ],
      "metadata": {
        "id": "pEKG3_lyT4X8"
      }
    },
    {
      "cell_type": "code",
      "source": [
        "df['Loan Date End'].fillna('Unknown', inplace=True)"
      ],
      "metadata": {
        "id": "C8TBWm0_T8T8"
      },
      "execution_count": 7,
      "outputs": []
    },
    {
      "cell_type": "code",
      "source": [
        "df.info()"
      ],
      "metadata": {
        "colab": {
          "base_uri": "https://localhost:8080/"
        },
        "id": "CBDWjhS4UBWU",
        "outputId": "49c3e546-da58-4873-8917-40d8a741381b"
      },
      "execution_count": 8,
      "outputs": [
        {
          "output_type": "stream",
          "name": "stdout",
          "text": [
            "<class 'pandas.core.frame.DataFrame'>\n",
            "RangeIndex: 18979 entries, 0 to 18978\n",
            "Data columns (total 77 columns):\n",
            " #   Column            Non-Null Count  Dtype \n",
            "---  ------            --------------  ----- \n",
            " 0   ID                18979 non-null  int64 \n",
            " 1   Name              18979 non-null  object\n",
            " 2   LongName          18979 non-null  object\n",
            " 3   photoUrl          18979 non-null  object\n",
            " 4   playerUrl         18979 non-null  object\n",
            " 5   Nationality       18979 non-null  object\n",
            " 6   Age               18979 non-null  int64 \n",
            " 7   ↓OVA              18979 non-null  int64 \n",
            " 8   POT               18979 non-null  int64 \n",
            " 9   Club              18979 non-null  object\n",
            " 10  Contract          18979 non-null  object\n",
            " 11  Positions         18979 non-null  object\n",
            " 12  Height            18979 non-null  object\n",
            " 13  Weight            18979 non-null  object\n",
            " 14  Preferred Foot    18979 non-null  object\n",
            " 15  BOV               18979 non-null  int64 \n",
            " 16  Best Position     18979 non-null  object\n",
            " 17  Joined            18979 non-null  object\n",
            " 18  Loan Date End     18979 non-null  object\n",
            " 19  Value             18979 non-null  object\n",
            " 20  Wage              18979 non-null  object\n",
            " 21  Release Clause    18979 non-null  object\n",
            " 22  Attacking         18979 non-null  int64 \n",
            " 23  Crossing          18979 non-null  int64 \n",
            " 24  Finishing         18979 non-null  int64 \n",
            " 25  Heading Accuracy  18979 non-null  int64 \n",
            " 26  Short Passing     18979 non-null  int64 \n",
            " 27  Volleys           18979 non-null  int64 \n",
            " 28  Skill             18979 non-null  int64 \n",
            " 29  Dribbling         18979 non-null  int64 \n",
            " 30  Curve             18979 non-null  int64 \n",
            " 31  FK Accuracy       18979 non-null  int64 \n",
            " 32  Long Passing      18979 non-null  int64 \n",
            " 33  Ball Control      18979 non-null  int64 \n",
            " 34  Movement          18979 non-null  int64 \n",
            " 35  Acceleration      18979 non-null  int64 \n",
            " 36  Sprint Speed      18979 non-null  int64 \n",
            " 37  Agility           18979 non-null  int64 \n",
            " 38  Reactions         18979 non-null  int64 \n",
            " 39  Balance           18979 non-null  int64 \n",
            " 40  Power             18979 non-null  int64 \n",
            " 41  Shot Power        18979 non-null  int64 \n",
            " 42  Jumping           18979 non-null  int64 \n",
            " 43  Stamina           18979 non-null  int64 \n",
            " 44  Strength          18979 non-null  int64 \n",
            " 45  Long Shots        18979 non-null  int64 \n",
            " 46  Mentality         18979 non-null  int64 \n",
            " 47  Aggression        18979 non-null  int64 \n",
            " 48  Interceptions     18979 non-null  int64 \n",
            " 49  Positioning       18979 non-null  int64 \n",
            " 50  Vision            18979 non-null  int64 \n",
            " 51  Penalties         18979 non-null  int64 \n",
            " 52  Composure         18979 non-null  int64 \n",
            " 53  Defending         18979 non-null  int64 \n",
            " 54  Marking           18979 non-null  int64 \n",
            " 55  Standing Tackle   18979 non-null  int64 \n",
            " 56  Sliding Tackle    18979 non-null  int64 \n",
            " 57  Goalkeeping       18979 non-null  int64 \n",
            " 58  GK Diving         18979 non-null  int64 \n",
            " 59  GK Handling       18979 non-null  int64 \n",
            " 60  GK Kicking        18979 non-null  int64 \n",
            " 61  GK Positioning    18979 non-null  int64 \n",
            " 62  GK Reflexes       18979 non-null  int64 \n",
            " 63  Total Stats       18979 non-null  int64 \n",
            " 64  Base Stats        18979 non-null  int64 \n",
            " 65  W/F               18979 non-null  object\n",
            " 66  SM                18979 non-null  object\n",
            " 67  A/W               18979 non-null  object\n",
            " 68  D/W               18979 non-null  object\n",
            " 69  IR                18979 non-null  object\n",
            " 70  PAC               18979 non-null  int64 \n",
            " 71  SHO               18979 non-null  int64 \n",
            " 72  PAS               18979 non-null  int64 \n",
            " 73  DRI               18979 non-null  int64 \n",
            " 74  DEF               18979 non-null  int64 \n",
            " 75  PHY               18979 non-null  int64 \n",
            " 76  Hits              16384 non-null  object\n",
            "dtypes: int64(54), object(23)\n",
            "memory usage: 11.1+ MB\n"
          ]
        }
      ]
    },
    {
      "cell_type": "code",
      "source": [
        "df['Loan Date End'].info()"
      ],
      "metadata": {
        "colab": {
          "base_uri": "https://localhost:8080/"
        },
        "id": "7XWcLLtWUC6E",
        "outputId": "8bea7b9f-f84c-49f3-d181-d08f41050d78"
      },
      "execution_count": 9,
      "outputs": [
        {
          "output_type": "stream",
          "name": "stdout",
          "text": [
            "<class 'pandas.core.series.Series'>\n",
            "RangeIndex: 18979 entries, 0 to 18978\n",
            "Series name: Loan Date End\n",
            "Non-Null Count  Dtype \n",
            "--------------  ----- \n",
            "18979 non-null  object\n",
            "dtypes: object(1)\n",
            "memory usage: 148.4+ KB\n"
          ]
        }
      ]
    },
    {
      "cell_type": "code",
      "source": [],
      "metadata": {
        "id": "9giDINhkUJ0s"
      },
      "execution_count": null,
      "outputs": []
    },
    {
      "cell_type": "markdown",
      "source": [
        "# Drop the Unnecessary column"
      ],
      "metadata": {
        "id": "fZyLIy52UwCa"
      }
    },
    {
      "cell_type": "code",
      "source": [
        "df.drop(columns=['Hits'], inplace=True)"
      ],
      "metadata": {
        "id": "thFX8qnaU0wq"
      },
      "execution_count": 10,
      "outputs": []
    },
    {
      "cell_type": "code",
      "source": [
        "df.head()"
      ],
      "metadata": {
        "colab": {
          "base_uri": "https://localhost:8080/",
          "height": 473
        },
        "id": "4a53bUcVU3hq",
        "outputId": "8408dfee-bf09-41a4-cdb6-de91bd33fd58"
      },
      "execution_count": 11,
      "outputs": [
        {
          "output_type": "execute_result",
          "data": {
            "text/plain": [
              "       ID               Name                      LongName  \\\n",
              "0  158023           L. Messi                  Lionel Messi   \n",
              "1   20801  Cristiano Ronaldo  C. Ronaldo dos Santos Aveiro   \n",
              "2  200389           J. Oblak                     Jan Oblak   \n",
              "3  192985       K. De Bruyne               Kevin De Bruyne   \n",
              "4  190871          Neymar Jr    Neymar da Silva Santos Jr.   \n",
              "\n",
              "                                           photoUrl  \\\n",
              "0  https://cdn.sofifa.com/players/158/023/21_60.png   \n",
              "1  https://cdn.sofifa.com/players/020/801/21_60.png   \n",
              "2  https://cdn.sofifa.com/players/200/389/21_60.png   \n",
              "3  https://cdn.sofifa.com/players/192/985/21_60.png   \n",
              "4  https://cdn.sofifa.com/players/190/871/21_60.png   \n",
              "\n",
              "                                           playerUrl Nationality  Age  ↓OVA  \\\n",
              "0  http://sofifa.com/player/158023/lionel-messi/2...   Argentina   33    93   \n",
              "1  http://sofifa.com/player/20801/c-ronaldo-dos-s...    Portugal   35    92   \n",
              "2  http://sofifa.com/player/200389/jan-oblak/210006/    Slovenia   27    91   \n",
              "3  http://sofifa.com/player/192985/kevin-de-bruyn...     Belgium   29    91   \n",
              "4  http://sofifa.com/player/190871/neymar-da-silv...      Brazil   28    91   \n",
              "\n",
              "   POT                         Club  ...  SM     A/W     D/W   IR PAC  SHO  \\\n",
              "0   93         \\n\\n\\n\\nFC Barcelona  ...  4★  Medium     Low  5 ★  85   92   \n",
              "1   92             \\n\\n\\n\\nJuventus  ...  5★    High     Low  5 ★  89   93   \n",
              "2   93      \\n\\n\\n\\nAtlético Madrid  ...  1★  Medium  Medium  3 ★  87   92   \n",
              "3   91      \\n\\n\\n\\nManchester City  ...  4★    High    High  4 ★  76   86   \n",
              "4   91  \\n\\n\\n\\nParis Saint-Germain  ...  5★    High  Medium  5 ★  91   85   \n",
              "\n",
              "  PAS DRI DEF PHY  \n",
              "0  91  95  38  65  \n",
              "1  81  89  35  77  \n",
              "2  78  90  52  90  \n",
              "3  93  88  64  78  \n",
              "4  86  94  36  59  \n",
              "\n",
              "[5 rows x 76 columns]"
            ],
            "text/html": [
              "\n",
              "  <div id=\"df-eca6bbef-c8b9-4fb9-9ede-0e43e603ea4f\">\n",
              "    <div class=\"colab-df-container\">\n",
              "      <div>\n",
              "<style scoped>\n",
              "    .dataframe tbody tr th:only-of-type {\n",
              "        vertical-align: middle;\n",
              "    }\n",
              "\n",
              "    .dataframe tbody tr th {\n",
              "        vertical-align: top;\n",
              "    }\n",
              "\n",
              "    .dataframe thead th {\n",
              "        text-align: right;\n",
              "    }\n",
              "</style>\n",
              "<table border=\"1\" class=\"dataframe\">\n",
              "  <thead>\n",
              "    <tr style=\"text-align: right;\">\n",
              "      <th></th>\n",
              "      <th>ID</th>\n",
              "      <th>Name</th>\n",
              "      <th>LongName</th>\n",
              "      <th>photoUrl</th>\n",
              "      <th>playerUrl</th>\n",
              "      <th>Nationality</th>\n",
              "      <th>Age</th>\n",
              "      <th>↓OVA</th>\n",
              "      <th>POT</th>\n",
              "      <th>Club</th>\n",
              "      <th>...</th>\n",
              "      <th>SM</th>\n",
              "      <th>A/W</th>\n",
              "      <th>D/W</th>\n",
              "      <th>IR</th>\n",
              "      <th>PAC</th>\n",
              "      <th>SHO</th>\n",
              "      <th>PAS</th>\n",
              "      <th>DRI</th>\n",
              "      <th>DEF</th>\n",
              "      <th>PHY</th>\n",
              "    </tr>\n",
              "  </thead>\n",
              "  <tbody>\n",
              "    <tr>\n",
              "      <th>0</th>\n",
              "      <td>158023</td>\n",
              "      <td>L. Messi</td>\n",
              "      <td>Lionel Messi</td>\n",
              "      <td>https://cdn.sofifa.com/players/158/023/21_60.png</td>\n",
              "      <td>http://sofifa.com/player/158023/lionel-messi/2...</td>\n",
              "      <td>Argentina</td>\n",
              "      <td>33</td>\n",
              "      <td>93</td>\n",
              "      <td>93</td>\n",
              "      <td>\\n\\n\\n\\nFC Barcelona</td>\n",
              "      <td>...</td>\n",
              "      <td>4★</td>\n",
              "      <td>Medium</td>\n",
              "      <td>Low</td>\n",
              "      <td>5 ★</td>\n",
              "      <td>85</td>\n",
              "      <td>92</td>\n",
              "      <td>91</td>\n",
              "      <td>95</td>\n",
              "      <td>38</td>\n",
              "      <td>65</td>\n",
              "    </tr>\n",
              "    <tr>\n",
              "      <th>1</th>\n",
              "      <td>20801</td>\n",
              "      <td>Cristiano Ronaldo</td>\n",
              "      <td>C. Ronaldo dos Santos Aveiro</td>\n",
              "      <td>https://cdn.sofifa.com/players/020/801/21_60.png</td>\n",
              "      <td>http://sofifa.com/player/20801/c-ronaldo-dos-s...</td>\n",
              "      <td>Portugal</td>\n",
              "      <td>35</td>\n",
              "      <td>92</td>\n",
              "      <td>92</td>\n",
              "      <td>\\n\\n\\n\\nJuventus</td>\n",
              "      <td>...</td>\n",
              "      <td>5★</td>\n",
              "      <td>High</td>\n",
              "      <td>Low</td>\n",
              "      <td>5 ★</td>\n",
              "      <td>89</td>\n",
              "      <td>93</td>\n",
              "      <td>81</td>\n",
              "      <td>89</td>\n",
              "      <td>35</td>\n",
              "      <td>77</td>\n",
              "    </tr>\n",
              "    <tr>\n",
              "      <th>2</th>\n",
              "      <td>200389</td>\n",
              "      <td>J. Oblak</td>\n",
              "      <td>Jan Oblak</td>\n",
              "      <td>https://cdn.sofifa.com/players/200/389/21_60.png</td>\n",
              "      <td>http://sofifa.com/player/200389/jan-oblak/210006/</td>\n",
              "      <td>Slovenia</td>\n",
              "      <td>27</td>\n",
              "      <td>91</td>\n",
              "      <td>93</td>\n",
              "      <td>\\n\\n\\n\\nAtlético Madrid</td>\n",
              "      <td>...</td>\n",
              "      <td>1★</td>\n",
              "      <td>Medium</td>\n",
              "      <td>Medium</td>\n",
              "      <td>3 ★</td>\n",
              "      <td>87</td>\n",
              "      <td>92</td>\n",
              "      <td>78</td>\n",
              "      <td>90</td>\n",
              "      <td>52</td>\n",
              "      <td>90</td>\n",
              "    </tr>\n",
              "    <tr>\n",
              "      <th>3</th>\n",
              "      <td>192985</td>\n",
              "      <td>K. De Bruyne</td>\n",
              "      <td>Kevin De Bruyne</td>\n",
              "      <td>https://cdn.sofifa.com/players/192/985/21_60.png</td>\n",
              "      <td>http://sofifa.com/player/192985/kevin-de-bruyn...</td>\n",
              "      <td>Belgium</td>\n",
              "      <td>29</td>\n",
              "      <td>91</td>\n",
              "      <td>91</td>\n",
              "      <td>\\n\\n\\n\\nManchester City</td>\n",
              "      <td>...</td>\n",
              "      <td>4★</td>\n",
              "      <td>High</td>\n",
              "      <td>High</td>\n",
              "      <td>4 ★</td>\n",
              "      <td>76</td>\n",
              "      <td>86</td>\n",
              "      <td>93</td>\n",
              "      <td>88</td>\n",
              "      <td>64</td>\n",
              "      <td>78</td>\n",
              "    </tr>\n",
              "    <tr>\n",
              "      <th>4</th>\n",
              "      <td>190871</td>\n",
              "      <td>Neymar Jr</td>\n",
              "      <td>Neymar da Silva Santos Jr.</td>\n",
              "      <td>https://cdn.sofifa.com/players/190/871/21_60.png</td>\n",
              "      <td>http://sofifa.com/player/190871/neymar-da-silv...</td>\n",
              "      <td>Brazil</td>\n",
              "      <td>28</td>\n",
              "      <td>91</td>\n",
              "      <td>91</td>\n",
              "      <td>\\n\\n\\n\\nParis Saint-Germain</td>\n",
              "      <td>...</td>\n",
              "      <td>5★</td>\n",
              "      <td>High</td>\n",
              "      <td>Medium</td>\n",
              "      <td>5 ★</td>\n",
              "      <td>91</td>\n",
              "      <td>85</td>\n",
              "      <td>86</td>\n",
              "      <td>94</td>\n",
              "      <td>36</td>\n",
              "      <td>59</td>\n",
              "    </tr>\n",
              "  </tbody>\n",
              "</table>\n",
              "<p>5 rows × 76 columns</p>\n",
              "</div>\n",
              "      <button class=\"colab-df-convert\" onclick=\"convertToInteractive('df-eca6bbef-c8b9-4fb9-9ede-0e43e603ea4f')\"\n",
              "              title=\"Convert this dataframe to an interactive table.\"\n",
              "              style=\"display:none;\">\n",
              "        \n",
              "  <svg xmlns=\"http://www.w3.org/2000/svg\" height=\"24px\"viewBox=\"0 0 24 24\"\n",
              "       width=\"24px\">\n",
              "    <path d=\"M0 0h24v24H0V0z\" fill=\"none\"/>\n",
              "    <path d=\"M18.56 5.44l.94 2.06.94-2.06 2.06-.94-2.06-.94-.94-2.06-.94 2.06-2.06.94zm-11 1L8.5 8.5l.94-2.06 2.06-.94-2.06-.94L8.5 2.5l-.94 2.06-2.06.94zm10 10l.94 2.06.94-2.06 2.06-.94-2.06-.94-.94-2.06-.94 2.06-2.06.94z\"/><path d=\"M17.41 7.96l-1.37-1.37c-.4-.4-.92-.59-1.43-.59-.52 0-1.04.2-1.43.59L10.3 9.45l-7.72 7.72c-.78.78-.78 2.05 0 2.83L4 21.41c.39.39.9.59 1.41.59.51 0 1.02-.2 1.41-.59l7.78-7.78 2.81-2.81c.8-.78.8-2.07 0-2.86zM5.41 20L4 18.59l7.72-7.72 1.47 1.35L5.41 20z\"/>\n",
              "  </svg>\n",
              "      </button>\n",
              "      \n",
              "  <style>\n",
              "    .colab-df-container {\n",
              "      display:flex;\n",
              "      flex-wrap:wrap;\n",
              "      gap: 12px;\n",
              "    }\n",
              "\n",
              "    .colab-df-convert {\n",
              "      background-color: #E8F0FE;\n",
              "      border: none;\n",
              "      border-radius: 50%;\n",
              "      cursor: pointer;\n",
              "      display: none;\n",
              "      fill: #1967D2;\n",
              "      height: 32px;\n",
              "      padding: 0 0 0 0;\n",
              "      width: 32px;\n",
              "    }\n",
              "\n",
              "    .colab-df-convert:hover {\n",
              "      background-color: #E2EBFA;\n",
              "      box-shadow: 0px 1px 2px rgba(60, 64, 67, 0.3), 0px 1px 3px 1px rgba(60, 64, 67, 0.15);\n",
              "      fill: #174EA6;\n",
              "    }\n",
              "\n",
              "    [theme=dark] .colab-df-convert {\n",
              "      background-color: #3B4455;\n",
              "      fill: #D2E3FC;\n",
              "    }\n",
              "\n",
              "    [theme=dark] .colab-df-convert:hover {\n",
              "      background-color: #434B5C;\n",
              "      box-shadow: 0px 1px 3px 1px rgba(0, 0, 0, 0.15);\n",
              "      filter: drop-shadow(0px 1px 2px rgba(0, 0, 0, 0.3));\n",
              "      fill: #FFFFFF;\n",
              "    }\n",
              "  </style>\n",
              "\n",
              "      <script>\n",
              "        const buttonEl =\n",
              "          document.querySelector('#df-eca6bbef-c8b9-4fb9-9ede-0e43e603ea4f button.colab-df-convert');\n",
              "        buttonEl.style.display =\n",
              "          google.colab.kernel.accessAllowed ? 'block' : 'none';\n",
              "\n",
              "        async function convertToInteractive(key) {\n",
              "          const element = document.querySelector('#df-eca6bbef-c8b9-4fb9-9ede-0e43e603ea4f');\n",
              "          const dataTable =\n",
              "            await google.colab.kernel.invokeFunction('convertToInteractive',\n",
              "                                                     [key], {});\n",
              "          if (!dataTable) return;\n",
              "\n",
              "          const docLinkHtml = 'Like what you see? Visit the ' +\n",
              "            '<a target=\"_blank\" href=https://colab.research.google.com/notebooks/data_table.ipynb>data table notebook</a>'\n",
              "            + ' to learn more about interactive tables.';\n",
              "          element.innerHTML = '';\n",
              "          dataTable['output_type'] = 'display_data';\n",
              "          await google.colab.output.renderOutput(dataTable, element);\n",
              "          const docLink = document.createElement('div');\n",
              "          docLink.innerHTML = docLinkHtml;\n",
              "          element.appendChild(docLink);\n",
              "        }\n",
              "      </script>\n",
              "    </div>\n",
              "  </div>\n",
              "  "
            ]
          },
          "metadata": {},
          "execution_count": 11
        }
      ]
    },
    {
      "cell_type": "code",
      "source": [
        "df.info()"
      ],
      "metadata": {
        "colab": {
          "base_uri": "https://localhost:8080/"
        },
        "id": "UkxykyDkU6wD",
        "outputId": "2f7a30a8-cb2d-4225-de07-9c47d6b2dd97"
      },
      "execution_count": 12,
      "outputs": [
        {
          "output_type": "stream",
          "name": "stdout",
          "text": [
            "<class 'pandas.core.frame.DataFrame'>\n",
            "RangeIndex: 18979 entries, 0 to 18978\n",
            "Data columns (total 76 columns):\n",
            " #   Column            Non-Null Count  Dtype \n",
            "---  ------            --------------  ----- \n",
            " 0   ID                18979 non-null  int64 \n",
            " 1   Name              18979 non-null  object\n",
            " 2   LongName          18979 non-null  object\n",
            " 3   photoUrl          18979 non-null  object\n",
            " 4   playerUrl         18979 non-null  object\n",
            " 5   Nationality       18979 non-null  object\n",
            " 6   Age               18979 non-null  int64 \n",
            " 7   ↓OVA              18979 non-null  int64 \n",
            " 8   POT               18979 non-null  int64 \n",
            " 9   Club              18979 non-null  object\n",
            " 10  Contract          18979 non-null  object\n",
            " 11  Positions         18979 non-null  object\n",
            " 12  Height            18979 non-null  object\n",
            " 13  Weight            18979 non-null  object\n",
            " 14  Preferred Foot    18979 non-null  object\n",
            " 15  BOV               18979 non-null  int64 \n",
            " 16  Best Position     18979 non-null  object\n",
            " 17  Joined            18979 non-null  object\n",
            " 18  Loan Date End     18979 non-null  object\n",
            " 19  Value             18979 non-null  object\n",
            " 20  Wage              18979 non-null  object\n",
            " 21  Release Clause    18979 non-null  object\n",
            " 22  Attacking         18979 non-null  int64 \n",
            " 23  Crossing          18979 non-null  int64 \n",
            " 24  Finishing         18979 non-null  int64 \n",
            " 25  Heading Accuracy  18979 non-null  int64 \n",
            " 26  Short Passing     18979 non-null  int64 \n",
            " 27  Volleys           18979 non-null  int64 \n",
            " 28  Skill             18979 non-null  int64 \n",
            " 29  Dribbling         18979 non-null  int64 \n",
            " 30  Curve             18979 non-null  int64 \n",
            " 31  FK Accuracy       18979 non-null  int64 \n",
            " 32  Long Passing      18979 non-null  int64 \n",
            " 33  Ball Control      18979 non-null  int64 \n",
            " 34  Movement          18979 non-null  int64 \n",
            " 35  Acceleration      18979 non-null  int64 \n",
            " 36  Sprint Speed      18979 non-null  int64 \n",
            " 37  Agility           18979 non-null  int64 \n",
            " 38  Reactions         18979 non-null  int64 \n",
            " 39  Balance           18979 non-null  int64 \n",
            " 40  Power             18979 non-null  int64 \n",
            " 41  Shot Power        18979 non-null  int64 \n",
            " 42  Jumping           18979 non-null  int64 \n",
            " 43  Stamina           18979 non-null  int64 \n",
            " 44  Strength          18979 non-null  int64 \n",
            " 45  Long Shots        18979 non-null  int64 \n",
            " 46  Mentality         18979 non-null  int64 \n",
            " 47  Aggression        18979 non-null  int64 \n",
            " 48  Interceptions     18979 non-null  int64 \n",
            " 49  Positioning       18979 non-null  int64 \n",
            " 50  Vision            18979 non-null  int64 \n",
            " 51  Penalties         18979 non-null  int64 \n",
            " 52  Composure         18979 non-null  int64 \n",
            " 53  Defending         18979 non-null  int64 \n",
            " 54  Marking           18979 non-null  int64 \n",
            " 55  Standing Tackle   18979 non-null  int64 \n",
            " 56  Sliding Tackle    18979 non-null  int64 \n",
            " 57  Goalkeeping       18979 non-null  int64 \n",
            " 58  GK Diving         18979 non-null  int64 \n",
            " 59  GK Handling       18979 non-null  int64 \n",
            " 60  GK Kicking        18979 non-null  int64 \n",
            " 61  GK Positioning    18979 non-null  int64 \n",
            " 62  GK Reflexes       18979 non-null  int64 \n",
            " 63  Total Stats       18979 non-null  int64 \n",
            " 64  Base Stats        18979 non-null  int64 \n",
            " 65  W/F               18979 non-null  object\n",
            " 66  SM                18979 non-null  object\n",
            " 67  A/W               18979 non-null  object\n",
            " 68  D/W               18979 non-null  object\n",
            " 69  IR                18979 non-null  object\n",
            " 70  PAC               18979 non-null  int64 \n",
            " 71  SHO               18979 non-null  int64 \n",
            " 72  PAS               18979 non-null  int64 \n",
            " 73  DRI               18979 non-null  int64 \n",
            " 74  DEF               18979 non-null  int64 \n",
            " 75  PHY               18979 non-null  int64 \n",
            "dtypes: int64(54), object(22)\n",
            "memory usage: 11.0+ MB\n"
          ]
        }
      ]
    },
    {
      "cell_type": "code",
      "source": [],
      "metadata": {
        "id": "i52CmnAzU9Dr"
      },
      "execution_count": null,
      "outputs": []
    },
    {
      "cell_type": "markdown",
      "source": [
        "#  Convert columns with date or time information"
      ],
      "metadata": {
        "id": "imovkuGCVC6i"
      }
    },
    {
      "cell_type": "code",
      "source": [
        "df['Joined'] = pd.to_datetime(df['Joined'])"
      ],
      "metadata": {
        "id": "FAKcVUU_VGPU"
      },
      "execution_count": 13,
      "outputs": []
    },
    {
      "cell_type": "code",
      "source": [
        "df['Joined']"
      ],
      "metadata": {
        "colab": {
          "base_uri": "https://localhost:8080/"
        },
        "id": "WRsQSmC2VI5e",
        "outputId": "66b24a20-7a7f-4356-eb66-da6352750e7f"
      },
      "execution_count": 15,
      "outputs": [
        {
          "output_type": "execute_result",
          "data": {
            "text/plain": [
              "0       2004-07-01\n",
              "1       2018-07-10\n",
              "2       2014-07-16\n",
              "3       2015-08-30\n",
              "4       2017-08-03\n",
              "           ...    \n",
              "18974   2018-07-13\n",
              "18975   2020-08-01\n",
              "18976   2019-03-08\n",
              "18977   2020-09-22\n",
              "18978   2019-07-29\n",
              "Name: Joined, Length: 18979, dtype: datetime64[ns]"
            ]
          },
          "metadata": {},
          "execution_count": 15
        }
      ]
    },
    {
      "cell_type": "code",
      "source": [],
      "metadata": {
        "id": "_l7EJkaiVLs2"
      },
      "execution_count": null,
      "outputs": []
    },
    {
      "cell_type": "markdown",
      "source": [
        "# Remove currency symbols from the 'Value' column"
      ],
      "metadata": {
        "id": "qft7QUytVjXg"
      }
    },
    {
      "cell_type": "code",
      "source": [
        "df['Value'] = df['Value'].str.replace('€', '')  # Remove Euro symbol\n"
      ],
      "metadata": {
        "id": "kHxKLipMVnpp"
      },
      "execution_count": 18,
      "outputs": []
    },
    {
      "cell_type": "markdown",
      "source": [
        "# Separate 'K' and 'M' from the 'Value' column and create 'Amount' column\n"
      ],
      "metadata": {
        "id": "r8NTYgi1V2Dj"
      }
    },
    {
      "cell_type": "code",
      "source": [
        "df['Amount'] = df['Value'].str[-1]\n",
        "df['Value'] = df['Value'].str[:-1]"
      ],
      "metadata": {
        "id": "V8fiwdEyVqGi"
      },
      "execution_count": 19,
      "outputs": []
    },
    {
      "cell_type": "code",
      "source": [
        "df.head()"
      ],
      "metadata": {
        "colab": {
          "base_uri": "https://localhost:8080/",
          "height": 473
        },
        "id": "ASZ7w97vV9Pz",
        "outputId": "69259da5-3c83-444d-e312-3c78ea3d15c9"
      },
      "execution_count": 20,
      "outputs": [
        {
          "output_type": "execute_result",
          "data": {
            "text/plain": [
              "       ID               Name                      LongName  \\\n",
              "0  158023           L. Messi                  Lionel Messi   \n",
              "1   20801  Cristiano Ronaldo  C. Ronaldo dos Santos Aveiro   \n",
              "2  200389           J. Oblak                     Jan Oblak   \n",
              "3  192985       K. De Bruyne               Kevin De Bruyne   \n",
              "4  190871          Neymar Jr    Neymar da Silva Santos Jr.   \n",
              "\n",
              "                                           photoUrl  \\\n",
              "0  https://cdn.sofifa.com/players/158/023/21_60.png   \n",
              "1  https://cdn.sofifa.com/players/020/801/21_60.png   \n",
              "2  https://cdn.sofifa.com/players/200/389/21_60.png   \n",
              "3  https://cdn.sofifa.com/players/192/985/21_60.png   \n",
              "4  https://cdn.sofifa.com/players/190/871/21_60.png   \n",
              "\n",
              "                                           playerUrl Nationality  Age  ↓OVA  \\\n",
              "0  http://sofifa.com/player/158023/lionel-messi/2...   Argentina   33    93   \n",
              "1  http://sofifa.com/player/20801/c-ronaldo-dos-s...    Portugal   35    92   \n",
              "2  http://sofifa.com/player/200389/jan-oblak/210006/    Slovenia   27    91   \n",
              "3  http://sofifa.com/player/192985/kevin-de-bruyn...     Belgium   29    91   \n",
              "4  http://sofifa.com/player/190871/neymar-da-silv...      Brazil   28    91   \n",
              "\n",
              "   POT                         Club  ...     A/W     D/W   IR PAC SHO  PAS  \\\n",
              "0   93         \\n\\n\\n\\nFC Barcelona  ...  Medium     Low  5 ★  85  92   91   \n",
              "1   92             \\n\\n\\n\\nJuventus  ...    High     Low  5 ★  89  93   81   \n",
              "2   93      \\n\\n\\n\\nAtlético Madrid  ...  Medium  Medium  3 ★  87  92   78   \n",
              "3   91      \\n\\n\\n\\nManchester City  ...    High    High  4 ★  76  86   93   \n",
              "4   91  \\n\\n\\n\\nParis Saint-Germain  ...    High  Medium  5 ★  91  85   86   \n",
              "\n",
              "  DRI DEF PHY Amount  \n",
              "0  95  38  65      M  \n",
              "1  89  35  77      M  \n",
              "2  90  52  90      M  \n",
              "3  88  64  78      M  \n",
              "4  94  36  59      M  \n",
              "\n",
              "[5 rows x 77 columns]"
            ],
            "text/html": [
              "\n",
              "  <div id=\"df-dae982d0-1260-4925-b23e-744495773ca9\">\n",
              "    <div class=\"colab-df-container\">\n",
              "      <div>\n",
              "<style scoped>\n",
              "    .dataframe tbody tr th:only-of-type {\n",
              "        vertical-align: middle;\n",
              "    }\n",
              "\n",
              "    .dataframe tbody tr th {\n",
              "        vertical-align: top;\n",
              "    }\n",
              "\n",
              "    .dataframe thead th {\n",
              "        text-align: right;\n",
              "    }\n",
              "</style>\n",
              "<table border=\"1\" class=\"dataframe\">\n",
              "  <thead>\n",
              "    <tr style=\"text-align: right;\">\n",
              "      <th></th>\n",
              "      <th>ID</th>\n",
              "      <th>Name</th>\n",
              "      <th>LongName</th>\n",
              "      <th>photoUrl</th>\n",
              "      <th>playerUrl</th>\n",
              "      <th>Nationality</th>\n",
              "      <th>Age</th>\n",
              "      <th>↓OVA</th>\n",
              "      <th>POT</th>\n",
              "      <th>Club</th>\n",
              "      <th>...</th>\n",
              "      <th>A/W</th>\n",
              "      <th>D/W</th>\n",
              "      <th>IR</th>\n",
              "      <th>PAC</th>\n",
              "      <th>SHO</th>\n",
              "      <th>PAS</th>\n",
              "      <th>DRI</th>\n",
              "      <th>DEF</th>\n",
              "      <th>PHY</th>\n",
              "      <th>Amount</th>\n",
              "    </tr>\n",
              "  </thead>\n",
              "  <tbody>\n",
              "    <tr>\n",
              "      <th>0</th>\n",
              "      <td>158023</td>\n",
              "      <td>L. Messi</td>\n",
              "      <td>Lionel Messi</td>\n",
              "      <td>https://cdn.sofifa.com/players/158/023/21_60.png</td>\n",
              "      <td>http://sofifa.com/player/158023/lionel-messi/2...</td>\n",
              "      <td>Argentina</td>\n",
              "      <td>33</td>\n",
              "      <td>93</td>\n",
              "      <td>93</td>\n",
              "      <td>\\n\\n\\n\\nFC Barcelona</td>\n",
              "      <td>...</td>\n",
              "      <td>Medium</td>\n",
              "      <td>Low</td>\n",
              "      <td>5 ★</td>\n",
              "      <td>85</td>\n",
              "      <td>92</td>\n",
              "      <td>91</td>\n",
              "      <td>95</td>\n",
              "      <td>38</td>\n",
              "      <td>65</td>\n",
              "      <td>M</td>\n",
              "    </tr>\n",
              "    <tr>\n",
              "      <th>1</th>\n",
              "      <td>20801</td>\n",
              "      <td>Cristiano Ronaldo</td>\n",
              "      <td>C. Ronaldo dos Santos Aveiro</td>\n",
              "      <td>https://cdn.sofifa.com/players/020/801/21_60.png</td>\n",
              "      <td>http://sofifa.com/player/20801/c-ronaldo-dos-s...</td>\n",
              "      <td>Portugal</td>\n",
              "      <td>35</td>\n",
              "      <td>92</td>\n",
              "      <td>92</td>\n",
              "      <td>\\n\\n\\n\\nJuventus</td>\n",
              "      <td>...</td>\n",
              "      <td>High</td>\n",
              "      <td>Low</td>\n",
              "      <td>5 ★</td>\n",
              "      <td>89</td>\n",
              "      <td>93</td>\n",
              "      <td>81</td>\n",
              "      <td>89</td>\n",
              "      <td>35</td>\n",
              "      <td>77</td>\n",
              "      <td>M</td>\n",
              "    </tr>\n",
              "    <tr>\n",
              "      <th>2</th>\n",
              "      <td>200389</td>\n",
              "      <td>J. Oblak</td>\n",
              "      <td>Jan Oblak</td>\n",
              "      <td>https://cdn.sofifa.com/players/200/389/21_60.png</td>\n",
              "      <td>http://sofifa.com/player/200389/jan-oblak/210006/</td>\n",
              "      <td>Slovenia</td>\n",
              "      <td>27</td>\n",
              "      <td>91</td>\n",
              "      <td>93</td>\n",
              "      <td>\\n\\n\\n\\nAtlético Madrid</td>\n",
              "      <td>...</td>\n",
              "      <td>Medium</td>\n",
              "      <td>Medium</td>\n",
              "      <td>3 ★</td>\n",
              "      <td>87</td>\n",
              "      <td>92</td>\n",
              "      <td>78</td>\n",
              "      <td>90</td>\n",
              "      <td>52</td>\n",
              "      <td>90</td>\n",
              "      <td>M</td>\n",
              "    </tr>\n",
              "    <tr>\n",
              "      <th>3</th>\n",
              "      <td>192985</td>\n",
              "      <td>K. De Bruyne</td>\n",
              "      <td>Kevin De Bruyne</td>\n",
              "      <td>https://cdn.sofifa.com/players/192/985/21_60.png</td>\n",
              "      <td>http://sofifa.com/player/192985/kevin-de-bruyn...</td>\n",
              "      <td>Belgium</td>\n",
              "      <td>29</td>\n",
              "      <td>91</td>\n",
              "      <td>91</td>\n",
              "      <td>\\n\\n\\n\\nManchester City</td>\n",
              "      <td>...</td>\n",
              "      <td>High</td>\n",
              "      <td>High</td>\n",
              "      <td>4 ★</td>\n",
              "      <td>76</td>\n",
              "      <td>86</td>\n",
              "      <td>93</td>\n",
              "      <td>88</td>\n",
              "      <td>64</td>\n",
              "      <td>78</td>\n",
              "      <td>M</td>\n",
              "    </tr>\n",
              "    <tr>\n",
              "      <th>4</th>\n",
              "      <td>190871</td>\n",
              "      <td>Neymar Jr</td>\n",
              "      <td>Neymar da Silva Santos Jr.</td>\n",
              "      <td>https://cdn.sofifa.com/players/190/871/21_60.png</td>\n",
              "      <td>http://sofifa.com/player/190871/neymar-da-silv...</td>\n",
              "      <td>Brazil</td>\n",
              "      <td>28</td>\n",
              "      <td>91</td>\n",
              "      <td>91</td>\n",
              "      <td>\\n\\n\\n\\nParis Saint-Germain</td>\n",
              "      <td>...</td>\n",
              "      <td>High</td>\n",
              "      <td>Medium</td>\n",
              "      <td>5 ★</td>\n",
              "      <td>91</td>\n",
              "      <td>85</td>\n",
              "      <td>86</td>\n",
              "      <td>94</td>\n",
              "      <td>36</td>\n",
              "      <td>59</td>\n",
              "      <td>M</td>\n",
              "    </tr>\n",
              "  </tbody>\n",
              "</table>\n",
              "<p>5 rows × 77 columns</p>\n",
              "</div>\n",
              "      <button class=\"colab-df-convert\" onclick=\"convertToInteractive('df-dae982d0-1260-4925-b23e-744495773ca9')\"\n",
              "              title=\"Convert this dataframe to an interactive table.\"\n",
              "              style=\"display:none;\">\n",
              "        \n",
              "  <svg xmlns=\"http://www.w3.org/2000/svg\" height=\"24px\"viewBox=\"0 0 24 24\"\n",
              "       width=\"24px\">\n",
              "    <path d=\"M0 0h24v24H0V0z\" fill=\"none\"/>\n",
              "    <path d=\"M18.56 5.44l.94 2.06.94-2.06 2.06-.94-2.06-.94-.94-2.06-.94 2.06-2.06.94zm-11 1L8.5 8.5l.94-2.06 2.06-.94-2.06-.94L8.5 2.5l-.94 2.06-2.06.94zm10 10l.94 2.06.94-2.06 2.06-.94-2.06-.94-.94-2.06-.94 2.06-2.06.94z\"/><path d=\"M17.41 7.96l-1.37-1.37c-.4-.4-.92-.59-1.43-.59-.52 0-1.04.2-1.43.59L10.3 9.45l-7.72 7.72c-.78.78-.78 2.05 0 2.83L4 21.41c.39.39.9.59 1.41.59.51 0 1.02-.2 1.41-.59l7.78-7.78 2.81-2.81c.8-.78.8-2.07 0-2.86zM5.41 20L4 18.59l7.72-7.72 1.47 1.35L5.41 20z\"/>\n",
              "  </svg>\n",
              "      </button>\n",
              "      \n",
              "  <style>\n",
              "    .colab-df-container {\n",
              "      display:flex;\n",
              "      flex-wrap:wrap;\n",
              "      gap: 12px;\n",
              "    }\n",
              "\n",
              "    .colab-df-convert {\n",
              "      background-color: #E8F0FE;\n",
              "      border: none;\n",
              "      border-radius: 50%;\n",
              "      cursor: pointer;\n",
              "      display: none;\n",
              "      fill: #1967D2;\n",
              "      height: 32px;\n",
              "      padding: 0 0 0 0;\n",
              "      width: 32px;\n",
              "    }\n",
              "\n",
              "    .colab-df-convert:hover {\n",
              "      background-color: #E2EBFA;\n",
              "      box-shadow: 0px 1px 2px rgba(60, 64, 67, 0.3), 0px 1px 3px 1px rgba(60, 64, 67, 0.15);\n",
              "      fill: #174EA6;\n",
              "    }\n",
              "\n",
              "    [theme=dark] .colab-df-convert {\n",
              "      background-color: #3B4455;\n",
              "      fill: #D2E3FC;\n",
              "    }\n",
              "\n",
              "    [theme=dark] .colab-df-convert:hover {\n",
              "      background-color: #434B5C;\n",
              "      box-shadow: 0px 1px 3px 1px rgba(0, 0, 0, 0.15);\n",
              "      filter: drop-shadow(0px 1px 2px rgba(0, 0, 0, 0.3));\n",
              "      fill: #FFFFFF;\n",
              "    }\n",
              "  </style>\n",
              "\n",
              "      <script>\n",
              "        const buttonEl =\n",
              "          document.querySelector('#df-dae982d0-1260-4925-b23e-744495773ca9 button.colab-df-convert');\n",
              "        buttonEl.style.display =\n",
              "          google.colab.kernel.accessAllowed ? 'block' : 'none';\n",
              "\n",
              "        async function convertToInteractive(key) {\n",
              "          const element = document.querySelector('#df-dae982d0-1260-4925-b23e-744495773ca9');\n",
              "          const dataTable =\n",
              "            await google.colab.kernel.invokeFunction('convertToInteractive',\n",
              "                                                     [key], {});\n",
              "          if (!dataTable) return;\n",
              "\n",
              "          const docLinkHtml = 'Like what you see? Visit the ' +\n",
              "            '<a target=\"_blank\" href=https://colab.research.google.com/notebooks/data_table.ipynb>data table notebook</a>'\n",
              "            + ' to learn more about interactive tables.';\n",
              "          element.innerHTML = '';\n",
              "          dataTable['output_type'] = 'display_data';\n",
              "          await google.colab.output.renderOutput(dataTable, element);\n",
              "          const docLink = document.createElement('div');\n",
              "          docLink.innerHTML = docLinkHtml;\n",
              "          element.appendChild(docLink);\n",
              "        }\n",
              "      </script>\n",
              "    </div>\n",
              "  </div>\n",
              "  "
            ]
          },
          "metadata": {},
          "execution_count": 20
        }
      ]
    },
    {
      "cell_type": "code",
      "source": [
        "df.info()"
      ],
      "metadata": {
        "colab": {
          "base_uri": "https://localhost:8080/"
        },
        "id": "vj-3UnjEV_X0",
        "outputId": "85f79ae8-6dd1-4e41-ce65-783df8c85ce1"
      },
      "execution_count": 21,
      "outputs": [
        {
          "output_type": "stream",
          "name": "stdout",
          "text": [
            "<class 'pandas.core.frame.DataFrame'>\n",
            "RangeIndex: 18979 entries, 0 to 18978\n",
            "Data columns (total 77 columns):\n",
            " #   Column            Non-Null Count  Dtype         \n",
            "---  ------            --------------  -----         \n",
            " 0   ID                18979 non-null  int64         \n",
            " 1   Name              18979 non-null  object        \n",
            " 2   LongName          18979 non-null  object        \n",
            " 3   photoUrl          18979 non-null  object        \n",
            " 4   playerUrl         18979 non-null  object        \n",
            " 5   Nationality       18979 non-null  object        \n",
            " 6   Age               18979 non-null  int64         \n",
            " 7   ↓OVA              18979 non-null  int64         \n",
            " 8   POT               18979 non-null  int64         \n",
            " 9   Club              18979 non-null  object        \n",
            " 10  Contract          18979 non-null  object        \n",
            " 11  Positions         18979 non-null  object        \n",
            " 12  Height            18979 non-null  object        \n",
            " 13  Weight            18979 non-null  object        \n",
            " 14  Preferred Foot    18979 non-null  object        \n",
            " 15  BOV               18979 non-null  int64         \n",
            " 16  Best Position     18979 non-null  object        \n",
            " 17  Joined            18979 non-null  datetime64[ns]\n",
            " 18  Loan Date End     18979 non-null  object        \n",
            " 19  Value             18979 non-null  object        \n",
            " 20  Wage              18979 non-null  object        \n",
            " 21  Release Clause    18979 non-null  object        \n",
            " 22  Attacking         18979 non-null  int64         \n",
            " 23  Crossing          18979 non-null  int64         \n",
            " 24  Finishing         18979 non-null  int64         \n",
            " 25  Heading Accuracy  18979 non-null  int64         \n",
            " 26  Short Passing     18979 non-null  int64         \n",
            " 27  Volleys           18979 non-null  int64         \n",
            " 28  Skill             18979 non-null  int64         \n",
            " 29  Dribbling         18979 non-null  int64         \n",
            " 30  Curve             18979 non-null  int64         \n",
            " 31  FK Accuracy       18979 non-null  int64         \n",
            " 32  Long Passing      18979 non-null  int64         \n",
            " 33  Ball Control      18979 non-null  int64         \n",
            " 34  Movement          18979 non-null  int64         \n",
            " 35  Acceleration      18979 non-null  int64         \n",
            " 36  Sprint Speed      18979 non-null  int64         \n",
            " 37  Agility           18979 non-null  int64         \n",
            " 38  Reactions         18979 non-null  int64         \n",
            " 39  Balance           18979 non-null  int64         \n",
            " 40  Power             18979 non-null  int64         \n",
            " 41  Shot Power        18979 non-null  int64         \n",
            " 42  Jumping           18979 non-null  int64         \n",
            " 43  Stamina           18979 non-null  int64         \n",
            " 44  Strength          18979 non-null  int64         \n",
            " 45  Long Shots        18979 non-null  int64         \n",
            " 46  Mentality         18979 non-null  int64         \n",
            " 47  Aggression        18979 non-null  int64         \n",
            " 48  Interceptions     18979 non-null  int64         \n",
            " 49  Positioning       18979 non-null  int64         \n",
            " 50  Vision            18979 non-null  int64         \n",
            " 51  Penalties         18979 non-null  int64         \n",
            " 52  Composure         18979 non-null  int64         \n",
            " 53  Defending         18979 non-null  int64         \n",
            " 54  Marking           18979 non-null  int64         \n",
            " 55  Standing Tackle   18979 non-null  int64         \n",
            " 56  Sliding Tackle    18979 non-null  int64         \n",
            " 57  Goalkeeping       18979 non-null  int64         \n",
            " 58  GK Diving         18979 non-null  int64         \n",
            " 59  GK Handling       18979 non-null  int64         \n",
            " 60  GK Kicking        18979 non-null  int64         \n",
            " 61  GK Positioning    18979 non-null  int64         \n",
            " 62  GK Reflexes       18979 non-null  int64         \n",
            " 63  Total Stats       18979 non-null  int64         \n",
            " 64  Base Stats        18979 non-null  int64         \n",
            " 65  W/F               18979 non-null  object        \n",
            " 66  SM                18979 non-null  object        \n",
            " 67  A/W               18979 non-null  object        \n",
            " 68  D/W               18979 non-null  object        \n",
            " 69  IR                18979 non-null  object        \n",
            " 70  PAC               18979 non-null  int64         \n",
            " 71  SHO               18979 non-null  int64         \n",
            " 72  PAS               18979 non-null  int64         \n",
            " 73  DRI               18979 non-null  int64         \n",
            " 74  DEF               18979 non-null  int64         \n",
            " 75  PHY               18979 non-null  int64         \n",
            " 76  Amount            18979 non-null  object        \n",
            "dtypes: datetime64[ns](1), int64(54), object(22)\n",
            "memory usage: 11.1+ MB\n"
          ]
        }
      ]
    },
    {
      "cell_type": "markdown",
      "source": [
        "# Convert the 'Value' column to numeric data type"
      ],
      "metadata": {
        "id": "9YuYce59WRWw"
      }
    },
    {
      "cell_type": "code",
      "source": [
        "df['Value'] = pd.to_numeric(df['Value'], errors='coerce')\n"
      ],
      "metadata": {
        "id": "yPLj55sgWFjd"
      },
      "execution_count": 23,
      "outputs": []
    },
    {
      "cell_type": "code",
      "source": [
        "df['Value']"
      ],
      "metadata": {
        "colab": {
          "base_uri": "https://localhost:8080/"
        },
        "id": "TcCb3Y1GWUwX",
        "outputId": "c4b9efcd-1fa2-4aee-dbb0-f2278da1342d"
      },
      "execution_count": 24,
      "outputs": [
        {
          "output_type": "execute_result",
          "data": {
            "text/plain": [
              "0        103.5\n",
              "1         63.0\n",
              "2        120.0\n",
              "3        129.0\n",
              "4        132.0\n",
              "         ...  \n",
              "18974    100.0\n",
              "18975    130.0\n",
              "18976    120.0\n",
              "18977    100.0\n",
              "18978    100.0\n",
              "Name: Value, Length: 18979, dtype: float64"
            ]
          },
          "metadata": {},
          "execution_count": 24
        }
      ]
    },
    {
      "cell_type": "markdown",
      "source": [
        "# Multiply the 'Value' column by 1000 for 'K' and 1000000 for 'M'\n"
      ],
      "metadata": {
        "id": "u03yVq1WWfSA"
      }
    },
    {
      "cell_type": "code",
      "source": [
        "df.loc[df['Amount'] == 'K', 'Value'] *= 1000\n",
        "df.loc[df['Amount'] == 'M', 'Value'] *= 1000000"
      ],
      "metadata": {
        "id": "e5J8nDpZWa8P"
      },
      "execution_count": 25,
      "outputs": []
    },
    {
      "cell_type": "code",
      "source": [
        "df['Value']"
      ],
      "metadata": {
        "colab": {
          "base_uri": "https://localhost:8080/"
        },
        "id": "j6yRzQOgWloJ",
        "outputId": "89c268fc-b855-48c3-ba69-c26c0564bbab"
      },
      "execution_count": 26,
      "outputs": [
        {
          "output_type": "execute_result",
          "data": {
            "text/plain": [
              "0        103500000.0\n",
              "1         63000000.0\n",
              "2        120000000.0\n",
              "3        129000000.0\n",
              "4        132000000.0\n",
              "            ...     \n",
              "18974       100000.0\n",
              "18975       130000.0\n",
              "18976       120000.0\n",
              "18977       100000.0\n",
              "18978       100000.0\n",
              "Name: Value, Length: 18979, dtype: float64"
            ]
          },
          "metadata": {},
          "execution_count": 26
        }
      ]
    },
    {
      "cell_type": "code",
      "source": [
        "df[['Height','Weight']]"
      ],
      "metadata": {
        "colab": {
          "base_uri": "https://localhost:8080/",
          "height": 424
        },
        "id": "hChx7f24Wqci",
        "outputId": "dcfa0ff0-750d-4e6a-cab9-d8bdc6945639"
      },
      "execution_count": 28,
      "outputs": [
        {
          "output_type": "execute_result",
          "data": {
            "text/plain": [
              "      Height Weight\n",
              "0      170cm   72kg\n",
              "1      187cm   83kg\n",
              "2      188cm   87kg\n",
              "3      181cm   70kg\n",
              "4      175cm   68kg\n",
              "...      ...    ...\n",
              "18974  178cm   66kg\n",
              "18975  175cm   65kg\n",
              "18976  179cm   74kg\n",
              "18977  175cm   69kg\n",
              "18978  188cm   75kg\n",
              "\n",
              "[18979 rows x 2 columns]"
            ],
            "text/html": [
              "\n",
              "  <div id=\"df-0156800a-5c2a-423c-a99e-21d9da55230d\">\n",
              "    <div class=\"colab-df-container\">\n",
              "      <div>\n",
              "<style scoped>\n",
              "    .dataframe tbody tr th:only-of-type {\n",
              "        vertical-align: middle;\n",
              "    }\n",
              "\n",
              "    .dataframe tbody tr th {\n",
              "        vertical-align: top;\n",
              "    }\n",
              "\n",
              "    .dataframe thead th {\n",
              "        text-align: right;\n",
              "    }\n",
              "</style>\n",
              "<table border=\"1\" class=\"dataframe\">\n",
              "  <thead>\n",
              "    <tr style=\"text-align: right;\">\n",
              "      <th></th>\n",
              "      <th>Height</th>\n",
              "      <th>Weight</th>\n",
              "    </tr>\n",
              "  </thead>\n",
              "  <tbody>\n",
              "    <tr>\n",
              "      <th>0</th>\n",
              "      <td>170cm</td>\n",
              "      <td>72kg</td>\n",
              "    </tr>\n",
              "    <tr>\n",
              "      <th>1</th>\n",
              "      <td>187cm</td>\n",
              "      <td>83kg</td>\n",
              "    </tr>\n",
              "    <tr>\n",
              "      <th>2</th>\n",
              "      <td>188cm</td>\n",
              "      <td>87kg</td>\n",
              "    </tr>\n",
              "    <tr>\n",
              "      <th>3</th>\n",
              "      <td>181cm</td>\n",
              "      <td>70kg</td>\n",
              "    </tr>\n",
              "    <tr>\n",
              "      <th>4</th>\n",
              "      <td>175cm</td>\n",
              "      <td>68kg</td>\n",
              "    </tr>\n",
              "    <tr>\n",
              "      <th>...</th>\n",
              "      <td>...</td>\n",
              "      <td>...</td>\n",
              "    </tr>\n",
              "    <tr>\n",
              "      <th>18974</th>\n",
              "      <td>178cm</td>\n",
              "      <td>66kg</td>\n",
              "    </tr>\n",
              "    <tr>\n",
              "      <th>18975</th>\n",
              "      <td>175cm</td>\n",
              "      <td>65kg</td>\n",
              "    </tr>\n",
              "    <tr>\n",
              "      <th>18976</th>\n",
              "      <td>179cm</td>\n",
              "      <td>74kg</td>\n",
              "    </tr>\n",
              "    <tr>\n",
              "      <th>18977</th>\n",
              "      <td>175cm</td>\n",
              "      <td>69kg</td>\n",
              "    </tr>\n",
              "    <tr>\n",
              "      <th>18978</th>\n",
              "      <td>188cm</td>\n",
              "      <td>75kg</td>\n",
              "    </tr>\n",
              "  </tbody>\n",
              "</table>\n",
              "<p>18979 rows × 2 columns</p>\n",
              "</div>\n",
              "      <button class=\"colab-df-convert\" onclick=\"convertToInteractive('df-0156800a-5c2a-423c-a99e-21d9da55230d')\"\n",
              "              title=\"Convert this dataframe to an interactive table.\"\n",
              "              style=\"display:none;\">\n",
              "        \n",
              "  <svg xmlns=\"http://www.w3.org/2000/svg\" height=\"24px\"viewBox=\"0 0 24 24\"\n",
              "       width=\"24px\">\n",
              "    <path d=\"M0 0h24v24H0V0z\" fill=\"none\"/>\n",
              "    <path d=\"M18.56 5.44l.94 2.06.94-2.06 2.06-.94-2.06-.94-.94-2.06-.94 2.06-2.06.94zm-11 1L8.5 8.5l.94-2.06 2.06-.94-2.06-.94L8.5 2.5l-.94 2.06-2.06.94zm10 10l.94 2.06.94-2.06 2.06-.94-2.06-.94-.94-2.06-.94 2.06-2.06.94z\"/><path d=\"M17.41 7.96l-1.37-1.37c-.4-.4-.92-.59-1.43-.59-.52 0-1.04.2-1.43.59L10.3 9.45l-7.72 7.72c-.78.78-.78 2.05 0 2.83L4 21.41c.39.39.9.59 1.41.59.51 0 1.02-.2 1.41-.59l7.78-7.78 2.81-2.81c.8-.78.8-2.07 0-2.86zM5.41 20L4 18.59l7.72-7.72 1.47 1.35L5.41 20z\"/>\n",
              "  </svg>\n",
              "      </button>\n",
              "      \n",
              "  <style>\n",
              "    .colab-df-container {\n",
              "      display:flex;\n",
              "      flex-wrap:wrap;\n",
              "      gap: 12px;\n",
              "    }\n",
              "\n",
              "    .colab-df-convert {\n",
              "      background-color: #E8F0FE;\n",
              "      border: none;\n",
              "      border-radius: 50%;\n",
              "      cursor: pointer;\n",
              "      display: none;\n",
              "      fill: #1967D2;\n",
              "      height: 32px;\n",
              "      padding: 0 0 0 0;\n",
              "      width: 32px;\n",
              "    }\n",
              "\n",
              "    .colab-df-convert:hover {\n",
              "      background-color: #E2EBFA;\n",
              "      box-shadow: 0px 1px 2px rgba(60, 64, 67, 0.3), 0px 1px 3px 1px rgba(60, 64, 67, 0.15);\n",
              "      fill: #174EA6;\n",
              "    }\n",
              "\n",
              "    [theme=dark] .colab-df-convert {\n",
              "      background-color: #3B4455;\n",
              "      fill: #D2E3FC;\n",
              "    }\n",
              "\n",
              "    [theme=dark] .colab-df-convert:hover {\n",
              "      background-color: #434B5C;\n",
              "      box-shadow: 0px 1px 3px 1px rgba(0, 0, 0, 0.15);\n",
              "      filter: drop-shadow(0px 1px 2px rgba(0, 0, 0, 0.3));\n",
              "      fill: #FFFFFF;\n",
              "    }\n",
              "  </style>\n",
              "\n",
              "      <script>\n",
              "        const buttonEl =\n",
              "          document.querySelector('#df-0156800a-5c2a-423c-a99e-21d9da55230d button.colab-df-convert');\n",
              "        buttonEl.style.display =\n",
              "          google.colab.kernel.accessAllowed ? 'block' : 'none';\n",
              "\n",
              "        async function convertToInteractive(key) {\n",
              "          const element = document.querySelector('#df-0156800a-5c2a-423c-a99e-21d9da55230d');\n",
              "          const dataTable =\n",
              "            await google.colab.kernel.invokeFunction('convertToInteractive',\n",
              "                                                     [key], {});\n",
              "          if (!dataTable) return;\n",
              "\n",
              "          const docLinkHtml = 'Like what you see? Visit the ' +\n",
              "            '<a target=\"_blank\" href=https://colab.research.google.com/notebooks/data_table.ipynb>data table notebook</a>'\n",
              "            + ' to learn more about interactive tables.';\n",
              "          element.innerHTML = '';\n",
              "          dataTable['output_type'] = 'display_data';\n",
              "          await google.colab.output.renderOutput(dataTable, element);\n",
              "          const docLink = document.createElement('div');\n",
              "          docLink.innerHTML = docLinkHtml;\n",
              "          element.appendChild(docLink);\n",
              "        }\n",
              "      </script>\n",
              "    </div>\n",
              "  </div>\n",
              "  "
            ]
          },
          "metadata": {},
          "execution_count": 28
        }
      ]
    },
    {
      "cell_type": "markdown",
      "source": [
        "# Modification of Height and Weight"
      ],
      "metadata": {
        "id": "c2wIZ7McmldG"
      }
    },
    {
      "cell_type": "markdown",
      "source": [
        "## Remove \"cm\" from the 'Height' column"
      ],
      "metadata": {
        "id": "aCsKZm8XmxPQ"
      }
    },
    {
      "cell_type": "code",
      "source": [
        "df['Height'] = df['Height'].str.replace('cm', '')"
      ],
      "metadata": {
        "id": "V8Vn7Y1hW9a8"
      },
      "execution_count": 30,
      "outputs": []
    },
    {
      "cell_type": "code",
      "source": [
        "df['Height']"
      ],
      "metadata": {
        "colab": {
          "base_uri": "https://localhost:8080/"
        },
        "id": "Z1njLuj2m5d8",
        "outputId": "986393ae-5213-4913-a5cb-413706322837"
      },
      "execution_count": 31,
      "outputs": [
        {
          "output_type": "execute_result",
          "data": {
            "text/plain": [
              "0        170\n",
              "1        187\n",
              "2        188\n",
              "3        181\n",
              "4        175\n",
              "        ... \n",
              "18974    178\n",
              "18975    175\n",
              "18976    179\n",
              "18977    175\n",
              "18978    188\n",
              "Name: Height, Length: 18979, dtype: object"
            ]
          },
          "metadata": {},
          "execution_count": 31
        }
      ]
    },
    {
      "cell_type": "markdown",
      "source": [
        "## Convert the 'Height' column to numeric data type"
      ],
      "metadata": {
        "id": "Vh4FhXBem-9Y"
      }
    },
    {
      "cell_type": "code",
      "source": [
        "df['Height'] = pd.to_numeric(df['Height'], errors='coerce')\n"
      ],
      "metadata": {
        "id": "lwqIF62Om7_k"
      },
      "execution_count": 33,
      "outputs": []
    },
    {
      "cell_type": "markdown",
      "source": [
        "## Convert height from cm to meters"
      ],
      "metadata": {
        "id": "OyPlY6NinKFR"
      }
    },
    {
      "cell_type": "code",
      "source": [
        "df['Height'] = df['Height'] / 100\n"
      ],
      "metadata": {
        "id": "DtBAni3xnC38"
      },
      "execution_count": 34,
      "outputs": []
    },
    {
      "cell_type": "code",
      "source": [
        "df['Height']"
      ],
      "metadata": {
        "colab": {
          "base_uri": "https://localhost:8080/"
        },
        "id": "4wbyaeCenORW",
        "outputId": "b9790de9-655f-48bc-d595-d9ed8129cd99"
      },
      "execution_count": 35,
      "outputs": [
        {
          "output_type": "execute_result",
          "data": {
            "text/plain": [
              "0        1.70\n",
              "1        1.87\n",
              "2        1.88\n",
              "3        1.81\n",
              "4        1.75\n",
              "         ... \n",
              "18974    1.78\n",
              "18975    1.75\n",
              "18976    1.79\n",
              "18977    1.75\n",
              "18978    1.88\n",
              "Name: Height, Length: 18979, dtype: float64"
            ]
          },
          "metadata": {},
          "execution_count": 35
        }
      ]
    },
    {
      "cell_type": "code",
      "source": [
        "df['Height(m)'] = df['Height']"
      ],
      "metadata": {
        "id": "ST1llvlsnRWW"
      },
      "execution_count": 36,
      "outputs": []
    },
    {
      "cell_type": "code",
      "source": [
        "df.info()"
      ],
      "metadata": {
        "colab": {
          "base_uri": "https://localhost:8080/"
        },
        "id": "KP4hYzS3ntdJ",
        "outputId": "3d11320f-550c-4577-94b0-7cc1cd02244f"
      },
      "execution_count": 37,
      "outputs": [
        {
          "output_type": "stream",
          "name": "stdout",
          "text": [
            "<class 'pandas.core.frame.DataFrame'>\n",
            "RangeIndex: 18979 entries, 0 to 18978\n",
            "Data columns (total 78 columns):\n",
            " #   Column            Non-Null Count  Dtype         \n",
            "---  ------            --------------  -----         \n",
            " 0   ID                18979 non-null  int64         \n",
            " 1   Name              18979 non-null  object        \n",
            " 2   LongName          18979 non-null  object        \n",
            " 3   photoUrl          18979 non-null  object        \n",
            " 4   playerUrl         18979 non-null  object        \n",
            " 5   Nationality       18979 non-null  object        \n",
            " 6   Age               18979 non-null  int64         \n",
            " 7   ↓OVA              18979 non-null  int64         \n",
            " 8   POT               18979 non-null  int64         \n",
            " 9   Club              18979 non-null  object        \n",
            " 10  Contract          18979 non-null  object        \n",
            " 11  Positions         18979 non-null  object        \n",
            " 12  Height            18939 non-null  float64       \n",
            " 13  Weight            18979 non-null  object        \n",
            " 14  Preferred Foot    18979 non-null  object        \n",
            " 15  BOV               18979 non-null  int64         \n",
            " 16  Best Position     18979 non-null  object        \n",
            " 17  Joined            18979 non-null  datetime64[ns]\n",
            " 18  Loan Date End     18979 non-null  object        \n",
            " 19  Value             18731 non-null  float64       \n",
            " 20  Wage              18979 non-null  object        \n",
            " 21  Release Clause    18979 non-null  object        \n",
            " 22  Attacking         18979 non-null  int64         \n",
            " 23  Crossing          18979 non-null  int64         \n",
            " 24  Finishing         18979 non-null  int64         \n",
            " 25  Heading Accuracy  18979 non-null  int64         \n",
            " 26  Short Passing     18979 non-null  int64         \n",
            " 27  Volleys           18979 non-null  int64         \n",
            " 28  Skill             18979 non-null  int64         \n",
            " 29  Dribbling         18979 non-null  int64         \n",
            " 30  Curve             18979 non-null  int64         \n",
            " 31  FK Accuracy       18979 non-null  int64         \n",
            " 32  Long Passing      18979 non-null  int64         \n",
            " 33  Ball Control      18979 non-null  int64         \n",
            " 34  Movement          18979 non-null  int64         \n",
            " 35  Acceleration      18979 non-null  int64         \n",
            " 36  Sprint Speed      18979 non-null  int64         \n",
            " 37  Agility           18979 non-null  int64         \n",
            " 38  Reactions         18979 non-null  int64         \n",
            " 39  Balance           18979 non-null  int64         \n",
            " 40  Power             18979 non-null  int64         \n",
            " 41  Shot Power        18979 non-null  int64         \n",
            " 42  Jumping           18979 non-null  int64         \n",
            " 43  Stamina           18979 non-null  int64         \n",
            " 44  Strength          18979 non-null  int64         \n",
            " 45  Long Shots        18979 non-null  int64         \n",
            " 46  Mentality         18979 non-null  int64         \n",
            " 47  Aggression        18979 non-null  int64         \n",
            " 48  Interceptions     18979 non-null  int64         \n",
            " 49  Positioning       18979 non-null  int64         \n",
            " 50  Vision            18979 non-null  int64         \n",
            " 51  Penalties         18979 non-null  int64         \n",
            " 52  Composure         18979 non-null  int64         \n",
            " 53  Defending         18979 non-null  int64         \n",
            " 54  Marking           18979 non-null  int64         \n",
            " 55  Standing Tackle   18979 non-null  int64         \n",
            " 56  Sliding Tackle    18979 non-null  int64         \n",
            " 57  Goalkeeping       18979 non-null  int64         \n",
            " 58  GK Diving         18979 non-null  int64         \n",
            " 59  GK Handling       18979 non-null  int64         \n",
            " 60  GK Kicking        18979 non-null  int64         \n",
            " 61  GK Positioning    18979 non-null  int64         \n",
            " 62  GK Reflexes       18979 non-null  int64         \n",
            " 63  Total Stats       18979 non-null  int64         \n",
            " 64  Base Stats        18979 non-null  int64         \n",
            " 65  W/F               18979 non-null  object        \n",
            " 66  SM                18979 non-null  object        \n",
            " 67  A/W               18979 non-null  object        \n",
            " 68  D/W               18979 non-null  object        \n",
            " 69  IR                18979 non-null  object        \n",
            " 70  PAC               18979 non-null  int64         \n",
            " 71  SHO               18979 non-null  int64         \n",
            " 72  PAS               18979 non-null  int64         \n",
            " 73  DRI               18979 non-null  int64         \n",
            " 74  DEF               18979 non-null  int64         \n",
            " 75  PHY               18979 non-null  int64         \n",
            " 76  Amount            18979 non-null  object        \n",
            " 77  Height(m)         18939 non-null  float64       \n",
            "dtypes: datetime64[ns](1), float64(3), int64(54), object(20)\n",
            "memory usage: 11.3+ MB\n"
          ]
        }
      ]
    },
    {
      "cell_type": "markdown",
      "source": [
        "## Drop the original 'Height' column"
      ],
      "metadata": {
        "id": "IYSepAiOsntV"
      }
    },
    {
      "cell_type": "code",
      "source": [
        "df = df.drop('Height', axis=1)"
      ],
      "metadata": {
        "id": "n2wSXrxmnwx7"
      },
      "execution_count": 38,
      "outputs": []
    },
    {
      "cell_type": "code",
      "source": [
        "df.info()"
      ],
      "metadata": {
        "colab": {
          "base_uri": "https://localhost:8080/"
        },
        "id": "oeU3W237ss9y",
        "outputId": "34a8963a-1a59-491c-e0d3-85f9b224a7d7"
      },
      "execution_count": 39,
      "outputs": [
        {
          "output_type": "stream",
          "name": "stdout",
          "text": [
            "<class 'pandas.core.frame.DataFrame'>\n",
            "RangeIndex: 18979 entries, 0 to 18978\n",
            "Data columns (total 77 columns):\n",
            " #   Column            Non-Null Count  Dtype         \n",
            "---  ------            --------------  -----         \n",
            " 0   ID                18979 non-null  int64         \n",
            " 1   Name              18979 non-null  object        \n",
            " 2   LongName          18979 non-null  object        \n",
            " 3   photoUrl          18979 non-null  object        \n",
            " 4   playerUrl         18979 non-null  object        \n",
            " 5   Nationality       18979 non-null  object        \n",
            " 6   Age               18979 non-null  int64         \n",
            " 7   ↓OVA              18979 non-null  int64         \n",
            " 8   POT               18979 non-null  int64         \n",
            " 9   Club              18979 non-null  object        \n",
            " 10  Contract          18979 non-null  object        \n",
            " 11  Positions         18979 non-null  object        \n",
            " 12  Weight            18979 non-null  object        \n",
            " 13  Preferred Foot    18979 non-null  object        \n",
            " 14  BOV               18979 non-null  int64         \n",
            " 15  Best Position     18979 non-null  object        \n",
            " 16  Joined            18979 non-null  datetime64[ns]\n",
            " 17  Loan Date End     18979 non-null  object        \n",
            " 18  Value             18731 non-null  float64       \n",
            " 19  Wage              18979 non-null  object        \n",
            " 20  Release Clause    18979 non-null  object        \n",
            " 21  Attacking         18979 non-null  int64         \n",
            " 22  Crossing          18979 non-null  int64         \n",
            " 23  Finishing         18979 non-null  int64         \n",
            " 24  Heading Accuracy  18979 non-null  int64         \n",
            " 25  Short Passing     18979 non-null  int64         \n",
            " 26  Volleys           18979 non-null  int64         \n",
            " 27  Skill             18979 non-null  int64         \n",
            " 28  Dribbling         18979 non-null  int64         \n",
            " 29  Curve             18979 non-null  int64         \n",
            " 30  FK Accuracy       18979 non-null  int64         \n",
            " 31  Long Passing      18979 non-null  int64         \n",
            " 32  Ball Control      18979 non-null  int64         \n",
            " 33  Movement          18979 non-null  int64         \n",
            " 34  Acceleration      18979 non-null  int64         \n",
            " 35  Sprint Speed      18979 non-null  int64         \n",
            " 36  Agility           18979 non-null  int64         \n",
            " 37  Reactions         18979 non-null  int64         \n",
            " 38  Balance           18979 non-null  int64         \n",
            " 39  Power             18979 non-null  int64         \n",
            " 40  Shot Power        18979 non-null  int64         \n",
            " 41  Jumping           18979 non-null  int64         \n",
            " 42  Stamina           18979 non-null  int64         \n",
            " 43  Strength          18979 non-null  int64         \n",
            " 44  Long Shots        18979 non-null  int64         \n",
            " 45  Mentality         18979 non-null  int64         \n",
            " 46  Aggression        18979 non-null  int64         \n",
            " 47  Interceptions     18979 non-null  int64         \n",
            " 48  Positioning       18979 non-null  int64         \n",
            " 49  Vision            18979 non-null  int64         \n",
            " 50  Penalties         18979 non-null  int64         \n",
            " 51  Composure         18979 non-null  int64         \n",
            " 52  Defending         18979 non-null  int64         \n",
            " 53  Marking           18979 non-null  int64         \n",
            " 54  Standing Tackle   18979 non-null  int64         \n",
            " 55  Sliding Tackle    18979 non-null  int64         \n",
            " 56  Goalkeeping       18979 non-null  int64         \n",
            " 57  GK Diving         18979 non-null  int64         \n",
            " 58  GK Handling       18979 non-null  int64         \n",
            " 59  GK Kicking        18979 non-null  int64         \n",
            " 60  GK Positioning    18979 non-null  int64         \n",
            " 61  GK Reflexes       18979 non-null  int64         \n",
            " 62  Total Stats       18979 non-null  int64         \n",
            " 63  Base Stats        18979 non-null  int64         \n",
            " 64  W/F               18979 non-null  object        \n",
            " 65  SM                18979 non-null  object        \n",
            " 66  A/W               18979 non-null  object        \n",
            " 67  D/W               18979 non-null  object        \n",
            " 68  IR                18979 non-null  object        \n",
            " 69  PAC               18979 non-null  int64         \n",
            " 70  SHO               18979 non-null  int64         \n",
            " 71  PAS               18979 non-null  int64         \n",
            " 72  DRI               18979 non-null  int64         \n",
            " 73  DEF               18979 non-null  int64         \n",
            " 74  PHY               18979 non-null  int64         \n",
            " 75  Amount            18979 non-null  object        \n",
            " 76  Height(m)         18939 non-null  float64       \n",
            "dtypes: datetime64[ns](1), float64(2), int64(54), object(20)\n",
            "memory usage: 11.1+ MB\n"
          ]
        }
      ]
    },
    {
      "cell_type": "markdown",
      "source": [
        "## Remove \"kg\" from the 'Weight' column"
      ],
      "metadata": {
        "id": "6ZKrws-xtBU-"
      }
    },
    {
      "cell_type": "code",
      "source": [
        "df['Weight'] = df['Weight'].str.replace('kg', '')\n"
      ],
      "metadata": {
        "id": "1AeKJ5CwtBAH"
      },
      "execution_count": 40,
      "outputs": []
    },
    {
      "cell_type": "code",
      "source": [
        "df['Weight']"
      ],
      "metadata": {
        "colab": {
          "base_uri": "https://localhost:8080/"
        },
        "id": "HpnhgWFHsvyL",
        "outputId": "355ab337-d70b-44a7-e1c3-5521681558db"
      },
      "execution_count": 41,
      "outputs": [
        {
          "output_type": "execute_result",
          "data": {
            "text/plain": [
              "0        72\n",
              "1        83\n",
              "2        87\n",
              "3        70\n",
              "4        68\n",
              "         ..\n",
              "18974    66\n",
              "18975    65\n",
              "18976    74\n",
              "18977    69\n",
              "18978    75\n",
              "Name: Weight, Length: 18979, dtype: object"
            ]
          },
          "metadata": {},
          "execution_count": 41
        }
      ]
    },
    {
      "cell_type": "markdown",
      "source": [
        "## Rename the 'Weight' column to 'Weight(kg)'"
      ],
      "metadata": {
        "id": "djsdoDywtQgR"
      }
    },
    {
      "cell_type": "code",
      "source": [
        "df = df.rename(columns={'Weight': 'Weight(kg)'})"
      ],
      "metadata": {
        "id": "aRFBkgixtNdd"
      },
      "execution_count": 42,
      "outputs": []
    },
    {
      "cell_type": "code",
      "source": [
        "df.info()"
      ],
      "metadata": {
        "colab": {
          "base_uri": "https://localhost:8080/"
        },
        "id": "dTxx85LftUFf",
        "outputId": "fa0d471b-e0b5-469a-81b3-3f65d32de65f"
      },
      "execution_count": 43,
      "outputs": [
        {
          "output_type": "stream",
          "name": "stdout",
          "text": [
            "<class 'pandas.core.frame.DataFrame'>\n",
            "RangeIndex: 18979 entries, 0 to 18978\n",
            "Data columns (total 77 columns):\n",
            " #   Column            Non-Null Count  Dtype         \n",
            "---  ------            --------------  -----         \n",
            " 0   ID                18979 non-null  int64         \n",
            " 1   Name              18979 non-null  object        \n",
            " 2   LongName          18979 non-null  object        \n",
            " 3   photoUrl          18979 non-null  object        \n",
            " 4   playerUrl         18979 non-null  object        \n",
            " 5   Nationality       18979 non-null  object        \n",
            " 6   Age               18979 non-null  int64         \n",
            " 7   ↓OVA              18979 non-null  int64         \n",
            " 8   POT               18979 non-null  int64         \n",
            " 9   Club              18979 non-null  object        \n",
            " 10  Contract          18979 non-null  object        \n",
            " 11  Positions         18979 non-null  object        \n",
            " 12  Weight(kg)        18979 non-null  object        \n",
            " 13  Preferred Foot    18979 non-null  object        \n",
            " 14  BOV               18979 non-null  int64         \n",
            " 15  Best Position     18979 non-null  object        \n",
            " 16  Joined            18979 non-null  datetime64[ns]\n",
            " 17  Loan Date End     18979 non-null  object        \n",
            " 18  Value             18731 non-null  float64       \n",
            " 19  Wage              18979 non-null  object        \n",
            " 20  Release Clause    18979 non-null  object        \n",
            " 21  Attacking         18979 non-null  int64         \n",
            " 22  Crossing          18979 non-null  int64         \n",
            " 23  Finishing         18979 non-null  int64         \n",
            " 24  Heading Accuracy  18979 non-null  int64         \n",
            " 25  Short Passing     18979 non-null  int64         \n",
            " 26  Volleys           18979 non-null  int64         \n",
            " 27  Skill             18979 non-null  int64         \n",
            " 28  Dribbling         18979 non-null  int64         \n",
            " 29  Curve             18979 non-null  int64         \n",
            " 30  FK Accuracy       18979 non-null  int64         \n",
            " 31  Long Passing      18979 non-null  int64         \n",
            " 32  Ball Control      18979 non-null  int64         \n",
            " 33  Movement          18979 non-null  int64         \n",
            " 34  Acceleration      18979 non-null  int64         \n",
            " 35  Sprint Speed      18979 non-null  int64         \n",
            " 36  Agility           18979 non-null  int64         \n",
            " 37  Reactions         18979 non-null  int64         \n",
            " 38  Balance           18979 non-null  int64         \n",
            " 39  Power             18979 non-null  int64         \n",
            " 40  Shot Power        18979 non-null  int64         \n",
            " 41  Jumping           18979 non-null  int64         \n",
            " 42  Stamina           18979 non-null  int64         \n",
            " 43  Strength          18979 non-null  int64         \n",
            " 44  Long Shots        18979 non-null  int64         \n",
            " 45  Mentality         18979 non-null  int64         \n",
            " 46  Aggression        18979 non-null  int64         \n",
            " 47  Interceptions     18979 non-null  int64         \n",
            " 48  Positioning       18979 non-null  int64         \n",
            " 49  Vision            18979 non-null  int64         \n",
            " 50  Penalties         18979 non-null  int64         \n",
            " 51  Composure         18979 non-null  int64         \n",
            " 52  Defending         18979 non-null  int64         \n",
            " 53  Marking           18979 non-null  int64         \n",
            " 54  Standing Tackle   18979 non-null  int64         \n",
            " 55  Sliding Tackle    18979 non-null  int64         \n",
            " 56  Goalkeeping       18979 non-null  int64         \n",
            " 57  GK Diving         18979 non-null  int64         \n",
            " 58  GK Handling       18979 non-null  int64         \n",
            " 59  GK Kicking        18979 non-null  int64         \n",
            " 60  GK Positioning    18979 non-null  int64         \n",
            " 61  GK Reflexes       18979 non-null  int64         \n",
            " 62  Total Stats       18979 non-null  int64         \n",
            " 63  Base Stats        18979 non-null  int64         \n",
            " 64  W/F               18979 non-null  object        \n",
            " 65  SM                18979 non-null  object        \n",
            " 66  A/W               18979 non-null  object        \n",
            " 67  D/W               18979 non-null  object        \n",
            " 68  IR                18979 non-null  object        \n",
            " 69  PAC               18979 non-null  int64         \n",
            " 70  SHO               18979 non-null  int64         \n",
            " 71  PAS               18979 non-null  int64         \n",
            " 72  DRI               18979 non-null  int64         \n",
            " 73  DEF               18979 non-null  int64         \n",
            " 74  PHY               18979 non-null  int64         \n",
            " 75  Amount            18979 non-null  object        \n",
            " 76  Height(m)         18939 non-null  float64       \n",
            "dtypes: datetime64[ns](1), float64(2), int64(54), object(20)\n",
            "memory usage: 11.1+ MB\n"
          ]
        }
      ]
    },
    {
      "cell_type": "code",
      "source": [
        "df['Weight(kg)']"
      ],
      "metadata": {
        "colab": {
          "base_uri": "https://localhost:8080/"
        },
        "id": "Z8-DqRSFuaeY",
        "outputId": "892b3b27-7a39-48e3-92a4-2c00945531e5"
      },
      "execution_count": 44,
      "outputs": [
        {
          "output_type": "execute_result",
          "data": {
            "text/plain": [
              "0        72\n",
              "1        83\n",
              "2        87\n",
              "3        70\n",
              "4        68\n",
              "         ..\n",
              "18974    66\n",
              "18975    65\n",
              "18976    74\n",
              "18977    69\n",
              "18978    75\n",
              "Name: Weight(kg), Length: 18979, dtype: object"
            ]
          },
          "metadata": {},
          "execution_count": 44
        }
      ]
    },
    {
      "cell_type": "code",
      "source": [
        "df['Release Clause']"
      ],
      "metadata": {
        "colab": {
          "base_uri": "https://localhost:8080/"
        },
        "id": "iLDxEfKwugFA",
        "outputId": "449a46c1-ec25-426b-d4bc-f4de5c923fd7"
      },
      "execution_count": 45,
      "outputs": [
        {
          "output_type": "execute_result",
          "data": {
            "text/plain": [
              "0        €138.4M\n",
              "1         €75.9M\n",
              "2        €159.4M\n",
              "3          €161M\n",
              "4        €166.5M\n",
              "          ...   \n",
              "18974       €70K\n",
              "18975      €165K\n",
              "18976      €131K\n",
              "18977       €88K\n",
              "18978       €79K\n",
              "Name: Release Clause, Length: 18979, dtype: object"
            ]
          },
          "metadata": {},
          "execution_count": 45
        }
      ]
    },
    {
      "cell_type": "code",
      "source": [
        "df['Wage']"
      ],
      "metadata": {
        "colab": {
          "base_uri": "https://localhost:8080/"
        },
        "id": "45s_P0Y9uvpb",
        "outputId": "1c58a66e-b5da-49ae-f43d-3f1119ac7b18"
      },
      "execution_count": 46,
      "outputs": [
        {
          "output_type": "execute_result",
          "data": {
            "text/plain": [
              "0        €560K\n",
              "1        €220K\n",
              "2        €125K\n",
              "3        €370K\n",
              "4        €270K\n",
              "         ...  \n",
              "18974      €1K\n",
              "18975     €500\n",
              "18976     €500\n",
              "18977      €2K\n",
              "18978      €1K\n",
              "Name: Wage, Length: 18979, dtype: object"
            ]
          },
          "metadata": {},
          "execution_count": 46
        }
      ]
    },
    {
      "cell_type": "markdown",
      "source": [
        "# Rename column name Value"
      ],
      "metadata": {
        "id": "ZH0AXtvewIgq"
      }
    },
    {
      "cell_type": "code",
      "source": [
        "df = df.rename(columns={'Value': 'Value(euro)'})"
      ],
      "metadata": {
        "id": "KpcsC6Kau35b"
      },
      "execution_count": 47,
      "outputs": []
    },
    {
      "cell_type": "code",
      "source": [
        "df.info()"
      ],
      "metadata": {
        "colab": {
          "base_uri": "https://localhost:8080/"
        },
        "id": "1V6y6Xy0wA_9",
        "outputId": "71ab4e2a-efe4-4b17-fb52-a7bbc111b6df"
      },
      "execution_count": 48,
      "outputs": [
        {
          "output_type": "stream",
          "name": "stdout",
          "text": [
            "<class 'pandas.core.frame.DataFrame'>\n",
            "RangeIndex: 18979 entries, 0 to 18978\n",
            "Data columns (total 77 columns):\n",
            " #   Column            Non-Null Count  Dtype         \n",
            "---  ------            --------------  -----         \n",
            " 0   ID                18979 non-null  int64         \n",
            " 1   Name              18979 non-null  object        \n",
            " 2   LongName          18979 non-null  object        \n",
            " 3   photoUrl          18979 non-null  object        \n",
            " 4   playerUrl         18979 non-null  object        \n",
            " 5   Nationality       18979 non-null  object        \n",
            " 6   Age               18979 non-null  int64         \n",
            " 7   ↓OVA              18979 non-null  int64         \n",
            " 8   POT               18979 non-null  int64         \n",
            " 9   Club              18979 non-null  object        \n",
            " 10  Contract          18979 non-null  object        \n",
            " 11  Positions         18979 non-null  object        \n",
            " 12  Weight(kg)        18979 non-null  object        \n",
            " 13  Preferred Foot    18979 non-null  object        \n",
            " 14  BOV               18979 non-null  int64         \n",
            " 15  Best Position     18979 non-null  object        \n",
            " 16  Joined            18979 non-null  datetime64[ns]\n",
            " 17  Loan Date End     18979 non-null  object        \n",
            " 18  Value(euro)       18731 non-null  float64       \n",
            " 19  Wage              18979 non-null  object        \n",
            " 20  Release Clause    18979 non-null  object        \n",
            " 21  Attacking         18979 non-null  int64         \n",
            " 22  Crossing          18979 non-null  int64         \n",
            " 23  Finishing         18979 non-null  int64         \n",
            " 24  Heading Accuracy  18979 non-null  int64         \n",
            " 25  Short Passing     18979 non-null  int64         \n",
            " 26  Volleys           18979 non-null  int64         \n",
            " 27  Skill             18979 non-null  int64         \n",
            " 28  Dribbling         18979 non-null  int64         \n",
            " 29  Curve             18979 non-null  int64         \n",
            " 30  FK Accuracy       18979 non-null  int64         \n",
            " 31  Long Passing      18979 non-null  int64         \n",
            " 32  Ball Control      18979 non-null  int64         \n",
            " 33  Movement          18979 non-null  int64         \n",
            " 34  Acceleration      18979 non-null  int64         \n",
            " 35  Sprint Speed      18979 non-null  int64         \n",
            " 36  Agility           18979 non-null  int64         \n",
            " 37  Reactions         18979 non-null  int64         \n",
            " 38  Balance           18979 non-null  int64         \n",
            " 39  Power             18979 non-null  int64         \n",
            " 40  Shot Power        18979 non-null  int64         \n",
            " 41  Jumping           18979 non-null  int64         \n",
            " 42  Stamina           18979 non-null  int64         \n",
            " 43  Strength          18979 non-null  int64         \n",
            " 44  Long Shots        18979 non-null  int64         \n",
            " 45  Mentality         18979 non-null  int64         \n",
            " 46  Aggression        18979 non-null  int64         \n",
            " 47  Interceptions     18979 non-null  int64         \n",
            " 48  Positioning       18979 non-null  int64         \n",
            " 49  Vision            18979 non-null  int64         \n",
            " 50  Penalties         18979 non-null  int64         \n",
            " 51  Composure         18979 non-null  int64         \n",
            " 52  Defending         18979 non-null  int64         \n",
            " 53  Marking           18979 non-null  int64         \n",
            " 54  Standing Tackle   18979 non-null  int64         \n",
            " 55  Sliding Tackle    18979 non-null  int64         \n",
            " 56  Goalkeeping       18979 non-null  int64         \n",
            " 57  GK Diving         18979 non-null  int64         \n",
            " 58  GK Handling       18979 non-null  int64         \n",
            " 59  GK Kicking        18979 non-null  int64         \n",
            " 60  GK Positioning    18979 non-null  int64         \n",
            " 61  GK Reflexes       18979 non-null  int64         \n",
            " 62  Total Stats       18979 non-null  int64         \n",
            " 63  Base Stats        18979 non-null  int64         \n",
            " 64  W/F               18979 non-null  object        \n",
            " 65  SM                18979 non-null  object        \n",
            " 66  A/W               18979 non-null  object        \n",
            " 67  D/W               18979 non-null  object        \n",
            " 68  IR                18979 non-null  object        \n",
            " 69  PAC               18979 non-null  int64         \n",
            " 70  SHO               18979 non-null  int64         \n",
            " 71  PAS               18979 non-null  int64         \n",
            " 72  DRI               18979 non-null  int64         \n",
            " 73  DEF               18979 non-null  int64         \n",
            " 74  PHY               18979 non-null  int64         \n",
            " 75  Amount            18979 non-null  object        \n",
            " 76  Height(m)         18939 non-null  float64       \n",
            "dtypes: datetime64[ns](1), float64(2), int64(54), object(20)\n",
            "memory usage: 11.1+ MB\n"
          ]
        }
      ]
    },
    {
      "cell_type": "markdown",
      "source": [
        "# Remove currency symbols from the 'Release Clause' column"
      ],
      "metadata": {
        "id": "j-SYTw8O2BHn"
      }
    },
    {
      "cell_type": "code",
      "source": [
        "df['Release Clause'] = df['Release Clause'].str.replace('€', '')  # Remove Euro symbol"
      ],
      "metadata": {
        "id": "B74-KQv3wC59"
      },
      "execution_count": 49,
      "outputs": []
    },
    {
      "cell_type": "code",
      "source": [
        "df['Release Clause']"
      ],
      "metadata": {
        "colab": {
          "base_uri": "https://localhost:8080/"
        },
        "id": "YsxuV-L22dcQ",
        "outputId": "d612e077-c01d-43a8-849a-d73f9f269792"
      },
      "execution_count": 50,
      "outputs": [
        {
          "output_type": "execute_result",
          "data": {
            "text/plain": [
              "0        138.4M\n",
              "1         75.9M\n",
              "2        159.4M\n",
              "3          161M\n",
              "4        166.5M\n",
              "          ...  \n",
              "18974       70K\n",
              "18975      165K\n",
              "18976      131K\n",
              "18977       88K\n",
              "18978       79K\n",
              "Name: Release Clause, Length: 18979, dtype: object"
            ]
          },
          "metadata": {},
          "execution_count": 50
        }
      ]
    },
    {
      "cell_type": "markdown",
      "source": [
        "# Separate 'K' and 'M' from the 'Release Clause' column and create 'RC Amount' column"
      ],
      "metadata": {
        "id": "NcWGHK1B2lDv"
      }
    },
    {
      "cell_type": "code",
      "source": [
        "df['RC Amount'] = df['Release Clause'].str[-1]\n",
        "df['Release Clause'] = df['Release Clause'].str[:-1]"
      ],
      "metadata": {
        "id": "2Va7rSYP2f0Y"
      },
      "execution_count": 51,
      "outputs": []
    },
    {
      "cell_type": "code",
      "source": [
        "df['Release Clause']"
      ],
      "metadata": {
        "colab": {
          "base_uri": "https://localhost:8080/"
        },
        "id": "KT2kwvTt27A8",
        "outputId": "753f9d34-2b30-48c2-8d07-0e478b814c98"
      },
      "execution_count": 52,
      "outputs": [
        {
          "output_type": "execute_result",
          "data": {
            "text/plain": [
              "0        138.4\n",
              "1         75.9\n",
              "2        159.4\n",
              "3          161\n",
              "4        166.5\n",
              "         ...  \n",
              "18974       70\n",
              "18975      165\n",
              "18976      131\n",
              "18977       88\n",
              "18978       79\n",
              "Name: Release Clause, Length: 18979, dtype: object"
            ]
          },
          "metadata": {},
          "execution_count": 52
        }
      ]
    },
    {
      "cell_type": "markdown",
      "source": [],
      "metadata": {
        "id": "UmMmyxKf3Bli"
      }
    },
    {
      "cell_type": "markdown",
      "source": [
        "# Convert the 'Release Clause' column to numeric data type"
      ],
      "metadata": {
        "id": "i47KjPS33CFa"
      }
    },
    {
      "cell_type": "code",
      "source": [
        "df['Release Clause'] = pd.to_numeric(df['Release Clause'], errors='coerce')\n"
      ],
      "metadata": {
        "id": "Zdv9ICqg2-tV"
      },
      "execution_count": 53,
      "outputs": []
    },
    {
      "cell_type": "markdown",
      "source": [
        "# Multiply the 'Release Clause' column by 1000 for 'K' and 1000000 for 'M'"
      ],
      "metadata": {
        "id": "vJVYiT5i3Z19"
      }
    },
    {
      "cell_type": "code",
      "source": [
        "df.loc[df['RC Amount'] == 'K', 'Release Clause'] *= 1000\n",
        "df.loc[df['RC Amount'] == 'M', 'Release Clause'] *= 1000000"
      ],
      "metadata": {
        "id": "32A6RAjA3W5g"
      },
      "execution_count": 56,
      "outputs": []
    },
    {
      "cell_type": "code",
      "source": [
        "df['Release Clause']"
      ],
      "metadata": {
        "colab": {
          "base_uri": "https://localhost:8080/"
        },
        "id": "c2b9Kquc3tPa",
        "outputId": "1058b580-915d-41cd-d5a3-bce577774807"
      },
      "execution_count": 57,
      "outputs": [
        {
          "output_type": "execute_result",
          "data": {
            "text/plain": [
              "0        138400000.0\n",
              "1         75900000.0\n",
              "2        159400000.0\n",
              "3        161000000.0\n",
              "4        166500000.0\n",
              "            ...     \n",
              "18974        70000.0\n",
              "18975       165000.0\n",
              "18976       131000.0\n",
              "18977        88000.0\n",
              "18978        79000.0\n",
              "Name: Release Clause, Length: 18979, dtype: float64"
            ]
          },
          "metadata": {},
          "execution_count": 57
        }
      ]
    },
    {
      "cell_type": "code",
      "source": [
        "df['Wage']"
      ],
      "metadata": {
        "colab": {
          "base_uri": "https://localhost:8080/"
        },
        "id": "YyXwW4hY3vxz",
        "outputId": "9503a942-0096-416d-bd93-4ddeb12d8a57"
      },
      "execution_count": 58,
      "outputs": [
        {
          "output_type": "execute_result",
          "data": {
            "text/plain": [
              "0        €560K\n",
              "1        €220K\n",
              "2        €125K\n",
              "3        €370K\n",
              "4        €270K\n",
              "         ...  \n",
              "18974      €1K\n",
              "18975     €500\n",
              "18976     €500\n",
              "18977      €2K\n",
              "18978      €1K\n",
              "Name: Wage, Length: 18979, dtype: object"
            ]
          },
          "metadata": {},
          "execution_count": 58
        }
      ]
    },
    {
      "cell_type": "markdown",
      "source": [
        "# Remove currency symbols from the 'Wage' column"
      ],
      "metadata": {
        "id": "0HcKogaF4upJ"
      }
    },
    {
      "cell_type": "code",
      "source": [
        "df['Wage'] = df['Wage'].str.replace('€', '')  # Remove Euro symbol\n"
      ],
      "metadata": {
        "id": "CnPYUnoI4nfC"
      },
      "execution_count": 59,
      "outputs": []
    },
    {
      "cell_type": "code",
      "source": [
        "df['Wage']"
      ],
      "metadata": {
        "colab": {
          "base_uri": "https://localhost:8080/"
        },
        "id": "RtHOWkFx426q",
        "outputId": "4d582f13-996a-4f41-899b-8b79535f8e11"
      },
      "execution_count": 60,
      "outputs": [
        {
          "output_type": "execute_result",
          "data": {
            "text/plain": [
              "0        560K\n",
              "1        220K\n",
              "2        125K\n",
              "3        370K\n",
              "4        270K\n",
              "         ... \n",
              "18974      1K\n",
              "18975     500\n",
              "18976     500\n",
              "18977      2K\n",
              "18978      1K\n",
              "Name: Wage, Length: 18979, dtype: object"
            ]
          },
          "metadata": {},
          "execution_count": 60
        }
      ]
    },
    {
      "cell_type": "markdown",
      "source": [
        "# Separate 'K' and 'M' from the 'Wage' column and create 'W Amount' column"
      ],
      "metadata": {
        "id": "xP5Nbi2U5E9G"
      }
    },
    {
      "cell_type": "code",
      "source": [
        "df['W Amount'] = df['Wage'].str[-1]\n",
        "df['Wage'] = df['Wage'].str[:-1]"
      ],
      "metadata": {
        "id": "oIuYwrdB46DU"
      },
      "execution_count": 61,
      "outputs": []
    },
    {
      "cell_type": "code",
      "source": [
        "df['Wage']"
      ],
      "metadata": {
        "colab": {
          "base_uri": "https://localhost:8080/"
        },
        "id": "L0PYIB7n5Q02",
        "outputId": "77b104e2-0762-4639-cce6-e86cdefff97b"
      },
      "execution_count": 62,
      "outputs": [
        {
          "output_type": "execute_result",
          "data": {
            "text/plain": [
              "0        560\n",
              "1        220\n",
              "2        125\n",
              "3        370\n",
              "4        270\n",
              "        ... \n",
              "18974      1\n",
              "18975     50\n",
              "18976     50\n",
              "18977      2\n",
              "18978      1\n",
              "Name: Wage, Length: 18979, dtype: object"
            ]
          },
          "metadata": {},
          "execution_count": 62
        }
      ]
    },
    {
      "cell_type": "code",
      "source": [],
      "metadata": {
        "id": "1HALC1t45S4n"
      },
      "execution_count": null,
      "outputs": []
    }
  ]
}