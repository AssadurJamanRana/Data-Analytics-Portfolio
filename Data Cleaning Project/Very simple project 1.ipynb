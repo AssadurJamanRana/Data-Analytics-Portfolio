{
 "cells": [
  {
   "cell_type": "markdown",
   "id": "ae8e0002",
   "metadata": {},
   "source": [
    "### Importing Pandas Library"
   ]
  },
  {
   "cell_type": "code",
   "execution_count": 1,
   "id": "116c4ec7",
   "metadata": {},
   "outputs": [],
   "source": [
    "import pandas as pd "
   ]
  },
  {
   "cell_type": "markdown",
   "id": "06b29e0e",
   "metadata": {},
   "source": [
    "### Read the csv file into a pandas Dataframe"
   ]
  },
  {
   "cell_type": "code",
   "execution_count": 2,
   "id": "ec789bdb",
   "metadata": {},
   "outputs": [],
   "source": [
    "data = pd.read_csv('sample.csv')"
   ]
  },
  {
   "cell_type": "markdown",
   "id": "2e89e147",
   "metadata": {},
   "source": [
    "### Explore the dataset "
   ]
  },
  {
   "cell_type": "code",
   "execution_count": 3,
   "id": "b9dd1be7",
   "metadata": {},
   "outputs": [
    {
     "data": {
      "text/html": [
       "<div>\n",
       "<style scoped>\n",
       "    .dataframe tbody tr th:only-of-type {\n",
       "        vertical-align: middle;\n",
       "    }\n",
       "\n",
       "    .dataframe tbody tr th {\n",
       "        vertical-align: top;\n",
       "    }\n",
       "\n",
       "    .dataframe thead th {\n",
       "        text-align: right;\n",
       "    }\n",
       "</style>\n",
       "<table border=\"1\" class=\"dataframe\">\n",
       "  <thead>\n",
       "    <tr style=\"text-align: right;\">\n",
       "      <th></th>\n",
       "      <th>id</th>\n",
       "      <th>name</th>\n",
       "      <th>age</th>\n",
       "      <th>email</th>\n",
       "      <th>phone</th>\n",
       "    </tr>\n",
       "  </thead>\n",
       "  <tbody>\n",
       "    <tr>\n",
       "      <th>0</th>\n",
       "      <td>1</td>\n",
       "      <td>John Doe</td>\n",
       "      <td>25.0</td>\n",
       "      <td>johndoe@example.com</td>\n",
       "      <td>123-456-7890</td>\n",
       "    </tr>\n",
       "    <tr>\n",
       "      <th>1</th>\n",
       "      <td>2</td>\n",
       "      <td>Jane Smith</td>\n",
       "      <td>32.0</td>\n",
       "      <td>janesmith@example.com</td>\n",
       "      <td>987-654-3210</td>\n",
       "    </tr>\n",
       "    <tr>\n",
       "      <th>2</th>\n",
       "      <td>3</td>\n",
       "      <td>Mark Johnson</td>\n",
       "      <td>NaN</td>\n",
       "      <td>markjohnson@example.com</td>\n",
       "      <td>NaN</td>\n",
       "    </tr>\n",
       "    <tr>\n",
       "      <th>3</th>\n",
       "      <td>4</td>\n",
       "      <td>Lisa Brown</td>\n",
       "      <td>40.0</td>\n",
       "      <td>NaN</td>\n",
       "      <td>345-678-9012</td>\n",
       "    </tr>\n",
       "  </tbody>\n",
       "</table>\n",
       "</div>"
      ],
      "text/plain": [
       "   id          name   age                    email         phone\n",
       "0   1      John Doe  25.0      johndoe@example.com  123-456-7890\n",
       "1   2    Jane Smith  32.0    janesmith@example.com  987-654-3210\n",
       "2   3  Mark Johnson   NaN  markjohnson@example.com           NaN\n",
       "3   4    Lisa Brown  40.0                      NaN  345-678-9012"
      ]
     },
     "execution_count": 3,
     "metadata": {},
     "output_type": "execute_result"
    }
   ],
   "source": [
    "data.head()"
   ]
  },
  {
   "cell_type": "code",
   "execution_count": 4,
   "id": "847af48b",
   "metadata": {},
   "outputs": [
    {
     "name": "stdout",
     "output_type": "stream",
     "text": [
      "<class 'pandas.core.frame.DataFrame'>\n",
      "RangeIndex: 4 entries, 0 to 3\n",
      "Data columns (total 5 columns):\n",
      " #   Column  Non-Null Count  Dtype  \n",
      "---  ------  --------------  -----  \n",
      " 0   id      4 non-null      int64  \n",
      " 1   name    4 non-null      object \n",
      " 2   age     3 non-null      float64\n",
      " 3   email   3 non-null      object \n",
      " 4   phone   3 non-null      object \n",
      "dtypes: float64(1), int64(1), object(3)\n",
      "memory usage: 288.0+ bytes\n"
     ]
    }
   ],
   "source": [
    "data.info()"
   ]
  },
  {
   "cell_type": "markdown",
   "id": "536464f1",
   "metadata": {},
   "source": [
    "### Handle Missing Values"
   ]
  },
  {
   "cell_type": "code",
   "execution_count": 5,
   "id": "42a62c7b",
   "metadata": {},
   "outputs": [],
   "source": [
    "data['age'].fillna(0, inplace=True)  # Replace missing age values with 0\n",
    "data['email'].fillna('', inplace=True)  # Replace missing email values with an empty string\n",
    "data['phone'].fillna('', inplace=True)  # Replace missing phone values with an empty string"
   ]
  },
  {
   "cell_type": "code",
   "execution_count": 6,
   "id": "b185388f",
   "metadata": {},
   "outputs": [
    {
     "data": {
      "text/html": [
       "<div>\n",
       "<style scoped>\n",
       "    .dataframe tbody tr th:only-of-type {\n",
       "        vertical-align: middle;\n",
       "    }\n",
       "\n",
       "    .dataframe tbody tr th {\n",
       "        vertical-align: top;\n",
       "    }\n",
       "\n",
       "    .dataframe thead th {\n",
       "        text-align: right;\n",
       "    }\n",
       "</style>\n",
       "<table border=\"1\" class=\"dataframe\">\n",
       "  <thead>\n",
       "    <tr style=\"text-align: right;\">\n",
       "      <th></th>\n",
       "      <th>id</th>\n",
       "      <th>name</th>\n",
       "      <th>age</th>\n",
       "      <th>email</th>\n",
       "      <th>phone</th>\n",
       "    </tr>\n",
       "  </thead>\n",
       "  <tbody>\n",
       "    <tr>\n",
       "      <th>0</th>\n",
       "      <td>1</td>\n",
       "      <td>John Doe</td>\n",
       "      <td>25.0</td>\n",
       "      <td>johndoe@example.com</td>\n",
       "      <td>123-456-7890</td>\n",
       "    </tr>\n",
       "    <tr>\n",
       "      <th>1</th>\n",
       "      <td>2</td>\n",
       "      <td>Jane Smith</td>\n",
       "      <td>32.0</td>\n",
       "      <td>janesmith@example.com</td>\n",
       "      <td>987-654-3210</td>\n",
       "    </tr>\n",
       "    <tr>\n",
       "      <th>2</th>\n",
       "      <td>3</td>\n",
       "      <td>Mark Johnson</td>\n",
       "      <td>0.0</td>\n",
       "      <td>markjohnson@example.com</td>\n",
       "      <td></td>\n",
       "    </tr>\n",
       "    <tr>\n",
       "      <th>3</th>\n",
       "      <td>4</td>\n",
       "      <td>Lisa Brown</td>\n",
       "      <td>40.0</td>\n",
       "      <td></td>\n",
       "      <td>345-678-9012</td>\n",
       "    </tr>\n",
       "  </tbody>\n",
       "</table>\n",
       "</div>"
      ],
      "text/plain": [
       "   id          name   age                    email         phone\n",
       "0   1      John Doe  25.0      johndoe@example.com  123-456-7890\n",
       "1   2    Jane Smith  32.0    janesmith@example.com  987-654-3210\n",
       "2   3  Mark Johnson   0.0  markjohnson@example.com              \n",
       "3   4    Lisa Brown  40.0                           345-678-9012"
      ]
     },
     "execution_count": 6,
     "metadata": {},
     "output_type": "execute_result"
    }
   ],
   "source": [
    "data.head()"
   ]
  },
  {
   "cell_type": "markdown",
   "id": "b6175122",
   "metadata": {},
   "source": [
    "### Standardize formats"
   ]
  },
  {
   "cell_type": "code",
   "execution_count": 7,
   "id": "0b1d144e",
   "metadata": {},
   "outputs": [],
   "source": [
    "data['email'] = data['email'].str.lower()  # Convert email addresses to lowercase\n",
    "data['phone'] = data['phone'].str.replace('-', '')  # Remove dashes from phone numbers\n"
   ]
  },
  {
   "cell_type": "code",
   "execution_count": 8,
   "id": "13a16a37",
   "metadata": {},
   "outputs": [
    {
     "data": {
      "text/html": [
       "<div>\n",
       "<style scoped>\n",
       "    .dataframe tbody tr th:only-of-type {\n",
       "        vertical-align: middle;\n",
       "    }\n",
       "\n",
       "    .dataframe tbody tr th {\n",
       "        vertical-align: top;\n",
       "    }\n",
       "\n",
       "    .dataframe thead th {\n",
       "        text-align: right;\n",
       "    }\n",
       "</style>\n",
       "<table border=\"1\" class=\"dataframe\">\n",
       "  <thead>\n",
       "    <tr style=\"text-align: right;\">\n",
       "      <th></th>\n",
       "      <th>id</th>\n",
       "      <th>name</th>\n",
       "      <th>age</th>\n",
       "      <th>email</th>\n",
       "      <th>phone</th>\n",
       "    </tr>\n",
       "  </thead>\n",
       "  <tbody>\n",
       "    <tr>\n",
       "      <th>0</th>\n",
       "      <td>1</td>\n",
       "      <td>John Doe</td>\n",
       "      <td>25.0</td>\n",
       "      <td>johndoe@example.com</td>\n",
       "      <td>1234567890</td>\n",
       "    </tr>\n",
       "    <tr>\n",
       "      <th>1</th>\n",
       "      <td>2</td>\n",
       "      <td>Jane Smith</td>\n",
       "      <td>32.0</td>\n",
       "      <td>janesmith@example.com</td>\n",
       "      <td>9876543210</td>\n",
       "    </tr>\n",
       "    <tr>\n",
       "      <th>2</th>\n",
       "      <td>3</td>\n",
       "      <td>Mark Johnson</td>\n",
       "      <td>0.0</td>\n",
       "      <td>markjohnson@example.com</td>\n",
       "      <td></td>\n",
       "    </tr>\n",
       "    <tr>\n",
       "      <th>3</th>\n",
       "      <td>4</td>\n",
       "      <td>Lisa Brown</td>\n",
       "      <td>40.0</td>\n",
       "      <td></td>\n",
       "      <td>3456789012</td>\n",
       "    </tr>\n",
       "  </tbody>\n",
       "</table>\n",
       "</div>"
      ],
      "text/plain": [
       "   id          name   age                    email       phone\n",
       "0   1      John Doe  25.0      johndoe@example.com  1234567890\n",
       "1   2    Jane Smith  32.0    janesmith@example.com  9876543210\n",
       "2   3  Mark Johnson   0.0  markjohnson@example.com            \n",
       "3   4    Lisa Brown  40.0                           3456789012"
      ]
     },
     "execution_count": 8,
     "metadata": {},
     "output_type": "execute_result"
    }
   ],
   "source": [
    "data.head()"
   ]
  },
  {
   "cell_type": "code",
   "execution_count": 9,
   "id": "42f9e034",
   "metadata": {},
   "outputs": [
    {
     "name": "stdout",
     "output_type": "stream",
     "text": [
      "<class 'pandas.core.frame.DataFrame'>\n",
      "RangeIndex: 4 entries, 0 to 3\n",
      "Data columns (total 5 columns):\n",
      " #   Column  Non-Null Count  Dtype  \n",
      "---  ------  --------------  -----  \n",
      " 0   id      4 non-null      int64  \n",
      " 1   name    4 non-null      object \n",
      " 2   age     4 non-null      float64\n",
      " 3   email   4 non-null      object \n",
      " 4   phone   4 non-null      object \n",
      "dtypes: float64(1), int64(1), object(3)\n",
      "memory usage: 288.0+ bytes\n"
     ]
    }
   ],
   "source": [
    "data.info()"
   ]
  },
  {
   "cell_type": "markdown",
   "id": "bfcfc9b0",
   "metadata": {},
   "source": [
    "### Remove duplicates "
   ]
  },
  {
   "cell_type": "code",
   "execution_count": 10,
   "id": "a912b4bf",
   "metadata": {},
   "outputs": [],
   "source": [
    "data.drop_duplicates(subset=['email'], inplace= True)   # Remvove duplicate rows based on email column"
   ]
  },
  {
   "cell_type": "code",
   "execution_count": 11,
   "id": "91246d79",
   "metadata": {},
   "outputs": [
    {
     "data": {
      "text/html": [
       "<div>\n",
       "<style scoped>\n",
       "    .dataframe tbody tr th:only-of-type {\n",
       "        vertical-align: middle;\n",
       "    }\n",
       "\n",
       "    .dataframe tbody tr th {\n",
       "        vertical-align: top;\n",
       "    }\n",
       "\n",
       "    .dataframe thead th {\n",
       "        text-align: right;\n",
       "    }\n",
       "</style>\n",
       "<table border=\"1\" class=\"dataframe\">\n",
       "  <thead>\n",
       "    <tr style=\"text-align: right;\">\n",
       "      <th></th>\n",
       "      <th>id</th>\n",
       "      <th>name</th>\n",
       "      <th>age</th>\n",
       "      <th>email</th>\n",
       "      <th>phone</th>\n",
       "    </tr>\n",
       "  </thead>\n",
       "  <tbody>\n",
       "    <tr>\n",
       "      <th>0</th>\n",
       "      <td>1</td>\n",
       "      <td>John Doe</td>\n",
       "      <td>25.0</td>\n",
       "      <td>johndoe@example.com</td>\n",
       "      <td>1234567890</td>\n",
       "    </tr>\n",
       "    <tr>\n",
       "      <th>1</th>\n",
       "      <td>2</td>\n",
       "      <td>Jane Smith</td>\n",
       "      <td>32.0</td>\n",
       "      <td>janesmith@example.com</td>\n",
       "      <td>9876543210</td>\n",
       "    </tr>\n",
       "    <tr>\n",
       "      <th>2</th>\n",
       "      <td>3</td>\n",
       "      <td>Mark Johnson</td>\n",
       "      <td>0.0</td>\n",
       "      <td>markjohnson@example.com</td>\n",
       "      <td></td>\n",
       "    </tr>\n",
       "    <tr>\n",
       "      <th>3</th>\n",
       "      <td>4</td>\n",
       "      <td>Lisa Brown</td>\n",
       "      <td>40.0</td>\n",
       "      <td></td>\n",
       "      <td>3456789012</td>\n",
       "    </tr>\n",
       "  </tbody>\n",
       "</table>\n",
       "</div>"
      ],
      "text/plain": [
       "   id          name   age                    email       phone\n",
       "0   1      John Doe  25.0      johndoe@example.com  1234567890\n",
       "1   2    Jane Smith  32.0    janesmith@example.com  9876543210\n",
       "2   3  Mark Johnson   0.0  markjohnson@example.com            \n",
       "3   4    Lisa Brown  40.0                           3456789012"
      ]
     },
     "execution_count": 11,
     "metadata": {},
     "output_type": "execute_result"
    }
   ],
   "source": [
    "data.head()"
   ]
  },
  {
   "cell_type": "markdown",
   "id": "ea6dba9b",
   "metadata": {},
   "source": [
    "### Save the cleaned data to a new CSV file"
   ]
  },
  {
   "cell_type": "code",
   "execution_count": 12,
   "id": "3582a062",
   "metadata": {},
   "outputs": [],
   "source": [
    "data.to_csv('cleaned_sample_data.csv', index= False)"
   ]
  },
  {
   "cell_type": "markdown",
   "id": "cf07ce8f",
   "metadata": {},
   "source": [
    "### More cleaning data with mean value"
   ]
  },
  {
   "cell_type": "code",
   "execution_count": 14,
   "id": "4e267752",
   "metadata": {},
   "outputs": [],
   "source": [
    "mean_age = data[data['age'] !=0]['age'].mean()"
   ]
  },
  {
   "cell_type": "code",
   "execution_count": 15,
   "id": "32e5d8da",
   "metadata": {},
   "outputs": [],
   "source": [
    "data.loc[data['age'] == 0, 'age'] = mean_age"
   ]
  },
  {
   "cell_type": "code",
   "execution_count": 16,
   "id": "fafc62aa",
   "metadata": {},
   "outputs": [
    {
     "data": {
      "text/html": [
       "<div>\n",
       "<style scoped>\n",
       "    .dataframe tbody tr th:only-of-type {\n",
       "        vertical-align: middle;\n",
       "    }\n",
       "\n",
       "    .dataframe tbody tr th {\n",
       "        vertical-align: top;\n",
       "    }\n",
       "\n",
       "    .dataframe thead th {\n",
       "        text-align: right;\n",
       "    }\n",
       "</style>\n",
       "<table border=\"1\" class=\"dataframe\">\n",
       "  <thead>\n",
       "    <tr style=\"text-align: right;\">\n",
       "      <th></th>\n",
       "      <th>id</th>\n",
       "      <th>name</th>\n",
       "      <th>age</th>\n",
       "      <th>email</th>\n",
       "      <th>phone</th>\n",
       "    </tr>\n",
       "  </thead>\n",
       "  <tbody>\n",
       "    <tr>\n",
       "      <th>0</th>\n",
       "      <td>1</td>\n",
       "      <td>John Doe</td>\n",
       "      <td>25.000000</td>\n",
       "      <td>johndoe@example.com</td>\n",
       "      <td>1234567890</td>\n",
       "    </tr>\n",
       "    <tr>\n",
       "      <th>1</th>\n",
       "      <td>2</td>\n",
       "      <td>Jane Smith</td>\n",
       "      <td>32.000000</td>\n",
       "      <td>janesmith@example.com</td>\n",
       "      <td>9876543210</td>\n",
       "    </tr>\n",
       "    <tr>\n",
       "      <th>2</th>\n",
       "      <td>3</td>\n",
       "      <td>Mark Johnson</td>\n",
       "      <td>32.333333</td>\n",
       "      <td>markjohnson@example.com</td>\n",
       "      <td></td>\n",
       "    </tr>\n",
       "    <tr>\n",
       "      <th>3</th>\n",
       "      <td>4</td>\n",
       "      <td>Lisa Brown</td>\n",
       "      <td>40.000000</td>\n",
       "      <td></td>\n",
       "      <td>3456789012</td>\n",
       "    </tr>\n",
       "  </tbody>\n",
       "</table>\n",
       "</div>"
      ],
      "text/plain": [
       "   id          name        age                    email       phone\n",
       "0   1      John Doe  25.000000      johndoe@example.com  1234567890\n",
       "1   2    Jane Smith  32.000000    janesmith@example.com  9876543210\n",
       "2   3  Mark Johnson  32.333333  markjohnson@example.com            \n",
       "3   4    Lisa Brown  40.000000                           3456789012"
      ]
     },
     "execution_count": 16,
     "metadata": {},
     "output_type": "execute_result"
    }
   ],
   "source": [
    "data.head()"
   ]
  },
  {
   "cell_type": "markdown",
   "id": "54dcb3ea",
   "metadata": {},
   "source": [
    "### Replace null email values with name + \"@example.com\""
   ]
  },
  {
   "cell_type": "code",
   "execution_count": 17,
   "id": "ebd8f9d1",
   "metadata": {},
   "outputs": [],
   "source": [
    "data.loc[data['email'] == '', 'email'] = data['name'].str.replace(' ', '') + '@example.com'\n"
   ]
  },
  {
   "cell_type": "code",
   "execution_count": 18,
   "id": "914d1f99",
   "metadata": {},
   "outputs": [
    {
     "data": {
      "text/html": [
       "<div>\n",
       "<style scoped>\n",
       "    .dataframe tbody tr th:only-of-type {\n",
       "        vertical-align: middle;\n",
       "    }\n",
       "\n",
       "    .dataframe tbody tr th {\n",
       "        vertical-align: top;\n",
       "    }\n",
       "\n",
       "    .dataframe thead th {\n",
       "        text-align: right;\n",
       "    }\n",
       "</style>\n",
       "<table border=\"1\" class=\"dataframe\">\n",
       "  <thead>\n",
       "    <tr style=\"text-align: right;\">\n",
       "      <th></th>\n",
       "      <th>id</th>\n",
       "      <th>name</th>\n",
       "      <th>age</th>\n",
       "      <th>email</th>\n",
       "      <th>phone</th>\n",
       "    </tr>\n",
       "  </thead>\n",
       "  <tbody>\n",
       "    <tr>\n",
       "      <th>0</th>\n",
       "      <td>1</td>\n",
       "      <td>John Doe</td>\n",
       "      <td>25.000000</td>\n",
       "      <td>johndoe@example.com</td>\n",
       "      <td>1234567890</td>\n",
       "    </tr>\n",
       "    <tr>\n",
       "      <th>1</th>\n",
       "      <td>2</td>\n",
       "      <td>Jane Smith</td>\n",
       "      <td>32.000000</td>\n",
       "      <td>janesmith@example.com</td>\n",
       "      <td>9876543210</td>\n",
       "    </tr>\n",
       "    <tr>\n",
       "      <th>2</th>\n",
       "      <td>3</td>\n",
       "      <td>Mark Johnson</td>\n",
       "      <td>32.333333</td>\n",
       "      <td>markjohnson@example.com</td>\n",
       "      <td></td>\n",
       "    </tr>\n",
       "    <tr>\n",
       "      <th>3</th>\n",
       "      <td>4</td>\n",
       "      <td>Lisa Brown</td>\n",
       "      <td>40.000000</td>\n",
       "      <td>LisaBrown@example.com</td>\n",
       "      <td>3456789012</td>\n",
       "    </tr>\n",
       "  </tbody>\n",
       "</table>\n",
       "</div>"
      ],
      "text/plain": [
       "   id          name        age                    email       phone\n",
       "0   1      John Doe  25.000000      johndoe@example.com  1234567890\n",
       "1   2    Jane Smith  32.000000    janesmith@example.com  9876543210\n",
       "2   3  Mark Johnson  32.333333  markjohnson@example.com            \n",
       "3   4    Lisa Brown  40.000000    LisaBrown@example.com  3456789012"
      ]
     },
     "execution_count": 18,
     "metadata": {},
     "output_type": "execute_result"
    }
   ],
   "source": [
    "data.head()"
   ]
  },
  {
   "cell_type": "markdown",
   "id": "52c9087a",
   "metadata": {},
   "source": [
    "### Standardize formats"
   ]
  },
  {
   "cell_type": "code",
   "execution_count": 19,
   "id": "84ce32a6",
   "metadata": {},
   "outputs": [],
   "source": [
    "data['email'] = data['email'].str.lower()  # Convert email addresses to lowercase\n"
   ]
  },
  {
   "cell_type": "code",
   "execution_count": 20,
   "id": "88e8f89a",
   "metadata": {},
   "outputs": [
    {
     "data": {
      "text/html": [
       "<div>\n",
       "<style scoped>\n",
       "    .dataframe tbody tr th:only-of-type {\n",
       "        vertical-align: middle;\n",
       "    }\n",
       "\n",
       "    .dataframe tbody tr th {\n",
       "        vertical-align: top;\n",
       "    }\n",
       "\n",
       "    .dataframe thead th {\n",
       "        text-align: right;\n",
       "    }\n",
       "</style>\n",
       "<table border=\"1\" class=\"dataframe\">\n",
       "  <thead>\n",
       "    <tr style=\"text-align: right;\">\n",
       "      <th></th>\n",
       "      <th>id</th>\n",
       "      <th>name</th>\n",
       "      <th>age</th>\n",
       "      <th>email</th>\n",
       "      <th>phone</th>\n",
       "    </tr>\n",
       "  </thead>\n",
       "  <tbody>\n",
       "    <tr>\n",
       "      <th>0</th>\n",
       "      <td>1</td>\n",
       "      <td>John Doe</td>\n",
       "      <td>25.000000</td>\n",
       "      <td>johndoe@example.com</td>\n",
       "      <td>1234567890</td>\n",
       "    </tr>\n",
       "    <tr>\n",
       "      <th>1</th>\n",
       "      <td>2</td>\n",
       "      <td>Jane Smith</td>\n",
       "      <td>32.000000</td>\n",
       "      <td>janesmith@example.com</td>\n",
       "      <td>9876543210</td>\n",
       "    </tr>\n",
       "    <tr>\n",
       "      <th>2</th>\n",
       "      <td>3</td>\n",
       "      <td>Mark Johnson</td>\n",
       "      <td>32.333333</td>\n",
       "      <td>markjohnson@example.com</td>\n",
       "      <td></td>\n",
       "    </tr>\n",
       "    <tr>\n",
       "      <th>3</th>\n",
       "      <td>4</td>\n",
       "      <td>Lisa Brown</td>\n",
       "      <td>40.000000</td>\n",
       "      <td>lisabrown@example.com</td>\n",
       "      <td>3456789012</td>\n",
       "    </tr>\n",
       "  </tbody>\n",
       "</table>\n",
       "</div>"
      ],
      "text/plain": [
       "   id          name        age                    email       phone\n",
       "0   1      John Doe  25.000000      johndoe@example.com  1234567890\n",
       "1   2    Jane Smith  32.000000    janesmith@example.com  9876543210\n",
       "2   3  Mark Johnson  32.333333  markjohnson@example.com            \n",
       "3   4    Lisa Brown  40.000000    lisabrown@example.com  3456789012"
      ]
     },
     "execution_count": 20,
     "metadata": {},
     "output_type": "execute_result"
    }
   ],
   "source": [
    "data.head()"
   ]
  },
  {
   "cell_type": "markdown",
   "id": "d4be5e87",
   "metadata": {},
   "source": [
    "### Convert 'age' column to integer"
   ]
  },
  {
   "cell_type": "code",
   "execution_count": 21,
   "id": "eddfb6a3",
   "metadata": {},
   "outputs": [],
   "source": [
    "data['age'] = data['age'].astype(int)\n"
   ]
  },
  {
   "cell_type": "code",
   "execution_count": 22,
   "id": "943042c7",
   "metadata": {},
   "outputs": [
    {
     "data": {
      "text/html": [
       "<div>\n",
       "<style scoped>\n",
       "    .dataframe tbody tr th:only-of-type {\n",
       "        vertical-align: middle;\n",
       "    }\n",
       "\n",
       "    .dataframe tbody tr th {\n",
       "        vertical-align: top;\n",
       "    }\n",
       "\n",
       "    .dataframe thead th {\n",
       "        text-align: right;\n",
       "    }\n",
       "</style>\n",
       "<table border=\"1\" class=\"dataframe\">\n",
       "  <thead>\n",
       "    <tr style=\"text-align: right;\">\n",
       "      <th></th>\n",
       "      <th>id</th>\n",
       "      <th>name</th>\n",
       "      <th>age</th>\n",
       "      <th>email</th>\n",
       "      <th>phone</th>\n",
       "    </tr>\n",
       "  </thead>\n",
       "  <tbody>\n",
       "    <tr>\n",
       "      <th>0</th>\n",
       "      <td>1</td>\n",
       "      <td>John Doe</td>\n",
       "      <td>25</td>\n",
       "      <td>johndoe@example.com</td>\n",
       "      <td>1234567890</td>\n",
       "    </tr>\n",
       "    <tr>\n",
       "      <th>1</th>\n",
       "      <td>2</td>\n",
       "      <td>Jane Smith</td>\n",
       "      <td>32</td>\n",
       "      <td>janesmith@example.com</td>\n",
       "      <td>9876543210</td>\n",
       "    </tr>\n",
       "    <tr>\n",
       "      <th>2</th>\n",
       "      <td>3</td>\n",
       "      <td>Mark Johnson</td>\n",
       "      <td>32</td>\n",
       "      <td>markjohnson@example.com</td>\n",
       "      <td></td>\n",
       "    </tr>\n",
       "    <tr>\n",
       "      <th>3</th>\n",
       "      <td>4</td>\n",
       "      <td>Lisa Brown</td>\n",
       "      <td>40</td>\n",
       "      <td>lisabrown@example.com</td>\n",
       "      <td>3456789012</td>\n",
       "    </tr>\n",
       "  </tbody>\n",
       "</table>\n",
       "</div>"
      ],
      "text/plain": [
       "   id          name  age                    email       phone\n",
       "0   1      John Doe   25      johndoe@example.com  1234567890\n",
       "1   2    Jane Smith   32    janesmith@example.com  9876543210\n",
       "2   3  Mark Johnson   32  markjohnson@example.com            \n",
       "3   4    Lisa Brown   40    lisabrown@example.com  3456789012"
      ]
     },
     "execution_count": 22,
     "metadata": {},
     "output_type": "execute_result"
    }
   ],
   "source": [
    "data.head()"
   ]
  },
  {
   "cell_type": "markdown",
   "id": "d7da8626",
   "metadata": {},
   "source": [
    "### Save the cleaned data to a new CSV file again"
   ]
  },
  {
   "cell_type": "code",
   "execution_count": 23,
   "id": "44d3afcc",
   "metadata": {},
   "outputs": [],
   "source": [
    "data.to_csv('cleaned_sample_data_final.csv', index=False)"
   ]
  },
  {
   "cell_type": "code",
   "execution_count": null,
   "id": "6a5c1dbc",
   "metadata": {},
   "outputs": [],
   "source": []
  }
 ],
 "metadata": {
  "kernelspec": {
   "display_name": "Python 3 (ipykernel)",
   "language": "python",
   "name": "python3"
  },
  "language_info": {
   "codemirror_mode": {
    "name": "ipython",
    "version": 3
   },
   "file_extension": ".py",
   "mimetype": "text/x-python",
   "name": "python",
   "nbconvert_exporter": "python",
   "pygments_lexer": "ipython3",
   "version": "3.9.13"
  }
 },
 "nbformat": 4,
 "nbformat_minor": 5
}
