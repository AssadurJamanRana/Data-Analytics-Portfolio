{
  "nbformat": 4,
  "nbformat_minor": 0,
  "metadata": {
    "colab": {
      "provenance": []
    },
    "kernelspec": {
      "name": "python3",
      "display_name": "Python 3"
    },
    "language_info": {
      "name": "python"
    }
  },
  "cells": [
    {
      "cell_type": "markdown",
      "source": [
        "**Import request and add the url.**"
      ],
      "metadata": {
        "id": "LxOBQdBy41j3"
      }
    },
    {
      "cell_type": "code",
      "source": [
        "import requests\n",
        "from bs4 import BeautifulSoup\n",
        "import pandas as pd\n",
        "\n",
        "url = \"http://books.toscrape.com\""
      ],
      "metadata": {
        "id": "h77qHPgzOj1T"
      },
      "execution_count": 25,
      "outputs": []
    },
    {
      "cell_type": "markdown",
      "source": [
        "**Send a GET request to the website**"
      ],
      "metadata": {
        "id": "8xE_5pqp5xT6"
      }
    },
    {
      "cell_type": "code",
      "source": [
        "response = requests.get(url)"
      ],
      "metadata": {
        "id": "GoD9VRQX5nQ-"
      },
      "execution_count": 26,
      "outputs": []
    },
    {
      "cell_type": "markdown",
      "source": [
        "**Create a BeautifulSoup object to parse the HTML content**"
      ],
      "metadata": {
        "id": "QS8ilh5_5-1H"
      }
    },
    {
      "cell_type": "code",
      "source": [
        "soup = BeautifulSoup(response.content, \"html.parser\")"
      ],
      "metadata": {
        "id": "PbDhWG4d6EhI"
      },
      "execution_count": null,
      "outputs": []
    },
    {
      "cell_type": "markdown",
      "source": [
        "**Find the book elements on the webpage and extract the desired information**"
      ],
      "metadata": {
        "id": "mybZYHSQ80KI"
      }
    },
    {
      "cell_type": "code",
      "source": [
        "books = soup.find_all(\"article\", class_=\"product_pod\")"
      ],
      "metadata": {
        "id": "0JXM_RIA83EC"
      },
      "execution_count": 27,
      "outputs": []
    },
    {
      "cell_type": "markdown",
      "source": [
        "**Create empty lists to store the extracted information**"
      ],
      "metadata": {
        "id": "PRob7EL163GW"
      }
    },
    {
      "cell_type": "code",
      "source": [
        "titles = []\n",
        "prices = []\n",
        "ratings = []\n",
        "\n",
        "for book in books:\n",
        "    title = book.h3.a[\"title\"]\n",
        "    price = book.find(\"p\", class_=\"price_color\").text.strip()\n",
        "    rating = book.find(\"p\", class_=\"star-rating\")[\"class\"][1]\n",
        "\n",
        "    titles.append(title)\n",
        "    prices.append(price)\n",
        "    ratings.append(rating)"
      ],
      "metadata": {
        "id": "Z-o6txME685k"
      },
      "execution_count": 28,
      "outputs": []
    },
    {
      "cell_type": "markdown",
      "source": [
        "**Create a pandas DataFrame from the extracted information**"
      ],
      "metadata": {
        "id": "skuzqEWH7BmV"
      }
    },
    {
      "cell_type": "code",
      "source": [
        "data = {\n",
        "    \"Title\": titles,\n",
        "    \"Price\": prices,\n",
        "    \"Rating\": ratings\n",
        "}\n",
        "\n",
        "df = pd.DataFrame(data)\n",
        "print(df)"
      ],
      "metadata": {
        "id": "W_EZX7KbPDO1",
        "colab": {
          "base_uri": "https://localhost:8080/"
        },
        "outputId": "ac8bfe5b-3af5-465f-922f-6e254399d3c8"
      },
      "execution_count": 30,
      "outputs": [
        {
          "output_type": "stream",
          "name": "stdout",
          "text": [
            "                                                Title   Price Rating\n",
            "0                                A Light in the Attic  £51.77  Three\n",
            "1                                  Tipping the Velvet  £53.74    One\n",
            "2                                          Soumission  £50.10    One\n",
            "3                                       Sharp Objects  £47.82   Four\n",
            "4               Sapiens: A Brief History of Humankind  £54.23   Five\n",
            "5                                     The Requiem Red  £22.65    One\n",
            "6   The Dirty Little Secrets of Getting Your Dream...  £33.34   Four\n",
            "7   The Coming Woman: A Novel Based on the Life of...  £17.93  Three\n",
            "8   The Boys in the Boat: Nine Americans and Their...  £22.60   Four\n",
            "9                                     The Black Maria  £52.15    One\n",
            "10     Starving Hearts (Triangular Trade Trilogy, #1)  £13.99    Two\n",
            "11                              Shakespeare's Sonnets  £20.66   Four\n",
            "12                                        Set Me Free  £17.46   Five\n",
            "13  Scott Pilgrim's Precious Little Life (Scott Pi...  £52.29   Five\n",
            "14                          Rip it Up and Start Again  £35.02   Five\n",
            "15  Our Band Could Be Your Life: Scenes from the A...  £57.25  Three\n",
            "16                                               Olio  £23.88    One\n",
            "17  Mesaerion: The Best Science Fiction Stories 18...  £37.59    One\n",
            "18                       Libertarianism for Beginners  £51.33    Two\n",
            "19                            It's Only the Himalayas  £45.17    Two\n"
          ]
        }
      ]
    },
    {
      "cell_type": "markdown",
      "source": [
        "**Export DataFrame as a CSV file**"
      ],
      "metadata": {
        "id": "B8_I3uDf7cKI"
      }
    },
    {
      "cell_type": "code",
      "source": [
        "df.to_csv(\"books_data.csv\", index=False)"
      ],
      "metadata": {
        "id": "-sVeu4B6P8zP"
      },
      "execution_count": 31,
      "outputs": []
    },
    {
      "cell_type": "code",
      "source": [],
      "metadata": {
        "id": "SnhndyoOQb4Q"
      },
      "execution_count": null,
      "outputs": []
    }
  ]
}